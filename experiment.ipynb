{
 "cells": [
  {
   "cell_type": "markdown",
   "id": "4e3ba18c",
   "metadata": {},
   "source": [
    "# Загрузка библиотек"
   ]
  },
  {
   "cell_type": "code",
   "execution_count": 1,
   "id": "9e1e3c70",
   "metadata": {},
   "outputs": [
    {
     "name": "stdout",
     "output_type": "stream",
     "text": [
      "Requirement already satisfied: scikit-learn in c:\\users\\kdo\\appdata\\local\\programs\\python\\python313\\lib\\site-packages (1.7.1)\n",
      "Requirement already satisfied: numpy>=1.22.0 in c:\\users\\kdo\\appdata\\local\\programs\\python\\python313\\lib\\site-packages (from scikit-learn) (2.2.3)\n",
      "Requirement already satisfied: scipy>=1.8.0 in c:\\users\\kdo\\appdata\\local\\programs\\python\\python313\\lib\\site-packages (from scikit-learn) (1.15.2)\n",
      "Requirement already satisfied: joblib>=1.2.0 in c:\\users\\kdo\\appdata\\local\\programs\\python\\python313\\lib\\site-packages (from scikit-learn) (1.5.2)\n",
      "Requirement already satisfied: threadpoolctl>=3.1.0 in c:\\users\\kdo\\appdata\\local\\programs\\python\\python313\\lib\\site-packages (from scikit-learn) (3.6.0)\n",
      "Note: you may need to restart the kernel to use updated packages.\n",
      "Requirement already satisfied: pandas in c:\\users\\kdo\\appdata\\local\\programs\\python\\python313\\lib\\site-packages (2.2.3)\n",
      "Requirement already satisfied: numpy>=1.26.0 in c:\\users\\kdo\\appdata\\local\\programs\\python\\python313\\lib\\site-packages (from pandas) (2.2.3)\n",
      "Requirement already satisfied: python-dateutil>=2.8.2 in c:\\users\\kdo\\appdata\\local\\programs\\python\\python313\\lib\\site-packages (from pandas) (2.9.0.post0)\n",
      "Requirement already satisfied: pytz>=2020.1 in c:\\users\\kdo\\appdata\\local\\programs\\python\\python313\\lib\\site-packages (from pandas) (2025.1)\n",
      "Requirement already satisfied: tzdata>=2022.7 in c:\\users\\kdo\\appdata\\local\\programs\\python\\python313\\lib\\site-packages (from pandas) (2025.1)\n",
      "Requirement already satisfied: six>=1.5 in c:\\users\\kdo\\appdata\\local\\programs\\python\\python313\\lib\\site-packages (from python-dateutil>=2.8.2->pandas) (1.17.0)\n",
      "Note: you may need to restart the kernel to use updated packages.\n",
      "Requirement already satisfied: pandas in c:\\users\\kdo\\appdata\\local\\programs\\python\\python313\\lib\\site-packages (2.2.3)\n",
      "Requirement already satisfied: numpy>=1.26.0 in c:\\users\\kdo\\appdata\\local\\programs\\python\\python313\\lib\\site-packages (from pandas) (2.2.3)\n",
      "Requirement already satisfied: python-dateutil>=2.8.2 in c:\\users\\kdo\\appdata\\local\\programs\\python\\python313\\lib\\site-packages (from pandas) (2.9.0.post0)\n",
      "Requirement already satisfied: pytz>=2020.1 in c:\\users\\kdo\\appdata\\local\\programs\\python\\python313\\lib\\site-packages (from pandas) (2025.1)\n",
      "Requirement already satisfied: tzdata>=2022.7 in c:\\users\\kdo\\appdata\\local\\programs\\python\\python313\\lib\\site-packages (from pandas) (2025.1)\n",
      "Requirement already satisfied: six>=1.5 in c:\\users\\kdo\\appdata\\local\\programs\\python\\python313\\lib\\site-packages (from python-dateutil>=2.8.2->pandas) (1.17.0)\n",
      "Note: you may need to restart the kernel to use updated packages.\n",
      "Requirement already satisfied: plotly in c:\\users\\kdo\\appdata\\local\\programs\\python\\python313\\lib\\site-packages (6.0.1)\n",
      "Requirement already satisfied: narwhals>=1.15.1 in c:\\users\\kdo\\appdata\\local\\programs\\python\\python313\\lib\\site-packages (from plotly) (1.34.0)\n",
      "Requirement already satisfied: packaging in c:\\users\\kdo\\appdata\\local\\programs\\python\\python313\\lib\\site-packages (from plotly) (24.2)\n",
      "Note: you may need to restart the kernel to use updated packages.\n",
      "Requirement already satisfied: plotly in c:\\users\\kdo\\appdata\\local\\programs\\python\\python313\\lib\\site-packages (6.0.1)\n",
      "Requirement already satisfied: narwhals>=1.15.1 in c:\\users\\kdo\\appdata\\local\\programs\\python\\python313\\lib\\site-packages (from plotly) (1.34.0)\n",
      "Requirement already satisfied: packaging in c:\\users\\kdo\\appdata\\local\\programs\\python\\python313\\lib\\site-packages (from plotly) (24.2)\n",
      "Note: you may need to restart the kernel to use updated packages.\n",
      "Requirement already satisfied: scipy in c:\\users\\kdo\\appdata\\local\\programs\\python\\python313\\lib\\site-packages (1.15.2)\n",
      "Requirement already satisfied: numpy<2.5,>=1.23.5 in c:\\users\\kdo\\appdata\\local\\programs\\python\\python313\\lib\\site-packages (from scipy) (2.2.3)\n",
      "Note: you may need to restart the kernel to use updated packages.\n",
      "Requirement already satisfied: scipy in c:\\users\\kdo\\appdata\\local\\programs\\python\\python313\\lib\\site-packages (1.15.2)\n",
      "Requirement already satisfied: numpy<2.5,>=1.23.5 in c:\\users\\kdo\\appdata\\local\\programs\\python\\python313\\lib\\site-packages (from scipy) (2.2.3)\n",
      "Note: you may need to restart the kernel to use updated packages.\n",
      "Requirement already satisfied: kaggle in c:\\users\\kdo\\appdata\\local\\programs\\python\\python313\\lib\\site-packages (1.7.4.5)\n",
      "Requirement already satisfied: bleach in c:\\users\\kdo\\appdata\\local\\programs\\python\\python313\\lib\\site-packages (from kaggle) (6.2.0)\n",
      "Requirement already satisfied: certifi>=14.05.14 in c:\\users\\kdo\\appdata\\local\\programs\\python\\python313\\lib\\site-packages (from kaggle) (2025.1.31)\n",
      "Requirement already satisfied: charset-normalizer in c:\\users\\kdo\\appdata\\local\\programs\\python\\python313\\lib\\site-packages (from kaggle) (3.4.2)\n",
      "Requirement already satisfied: idna in c:\\users\\kdo\\appdata\\local\\programs\\python\\python313\\lib\\site-packages (from kaggle) (3.10)\n",
      "Requirement already satisfied: protobuf in c:\\users\\kdo\\appdata\\local\\programs\\python\\python313\\lib\\site-packages (from kaggle) (6.31.1)\n",
      "Requirement already satisfied: python-dateutil>=2.5.3 in c:\\users\\kdo\\appdata\\local\\programs\\python\\python313\\lib\\site-packages (from kaggle) (2.9.0.post0)\n",
      "Requirement already satisfied: python-slugify in c:\\users\\kdo\\appdata\\local\\programs\\python\\python313\\lib\\site-packages (from kaggle) (8.0.4)\n",
      "Requirement already satisfied: requests in c:\\users\\kdo\\appdata\\local\\programs\\python\\python313\\lib\\site-packages (from kaggle) (2.32.3)\n",
      "Requirement already satisfied: setuptools>=21.0.0 in c:\\users\\kdo\\appdata\\local\\programs\\python\\python313\\lib\\site-packages (from kaggle) (80.4.0)\n",
      "Requirement already satisfied: six>=1.10 in c:\\users\\kdo\\appdata\\local\\programs\\python\\python313\\lib\\site-packages (from kaggle) (1.17.0)\n",
      "Requirement already satisfied: text-unidecode in c:\\users\\kdo\\appdata\\local\\programs\\python\\python313\\lib\\site-packages (from kaggle) (1.3)\n",
      "Requirement already satisfied: tqdm in c:\\users\\kdo\\appdata\\local\\programs\\python\\python313\\lib\\site-packages (from kaggle) (4.67.1)\n",
      "Requirement already satisfied: urllib3>=1.15.1 in c:\\users\\kdo\\appdata\\local\\programs\\python\\python313\\lib\\site-packages (from kaggle) (2.4.0)\n",
      "Requirement already satisfied: webencodings in c:\\users\\kdo\\appdata\\local\\programs\\python\\python313\\lib\\site-packages (from kaggle) (0.5.1)\n",
      "Requirement already satisfied: colorama in c:\\users\\kdo\\appdata\\local\\programs\\python\\python313\\lib\\site-packages (from tqdm->kaggle) (0.4.6)\n",
      "Note: you may need to restart the kernel to use updated packages.\n",
      "Requirement already satisfied: kaggle in c:\\users\\kdo\\appdata\\local\\programs\\python\\python313\\lib\\site-packages (1.7.4.5)\n",
      "Requirement already satisfied: bleach in c:\\users\\kdo\\appdata\\local\\programs\\python\\python313\\lib\\site-packages (from kaggle) (6.2.0)\n",
      "Requirement already satisfied: certifi>=14.05.14 in c:\\users\\kdo\\appdata\\local\\programs\\python\\python313\\lib\\site-packages (from kaggle) (2025.1.31)\n",
      "Requirement already satisfied: charset-normalizer in c:\\users\\kdo\\appdata\\local\\programs\\python\\python313\\lib\\site-packages (from kaggle) (3.4.2)\n",
      "Requirement already satisfied: idna in c:\\users\\kdo\\appdata\\local\\programs\\python\\python313\\lib\\site-packages (from kaggle) (3.10)\n",
      "Requirement already satisfied: protobuf in c:\\users\\kdo\\appdata\\local\\programs\\python\\python313\\lib\\site-packages (from kaggle) (6.31.1)\n",
      "Requirement already satisfied: python-dateutil>=2.5.3 in c:\\users\\kdo\\appdata\\local\\programs\\python\\python313\\lib\\site-packages (from kaggle) (2.9.0.post0)\n",
      "Requirement already satisfied: python-slugify in c:\\users\\kdo\\appdata\\local\\programs\\python\\python313\\lib\\site-packages (from kaggle) (8.0.4)\n",
      "Requirement already satisfied: requests in c:\\users\\kdo\\appdata\\local\\programs\\python\\python313\\lib\\site-packages (from kaggle) (2.32.3)\n",
      "Requirement already satisfied: setuptools>=21.0.0 in c:\\users\\kdo\\appdata\\local\\programs\\python\\python313\\lib\\site-packages (from kaggle) (80.4.0)\n",
      "Requirement already satisfied: six>=1.10 in c:\\users\\kdo\\appdata\\local\\programs\\python\\python313\\lib\\site-packages (from kaggle) (1.17.0)\n",
      "Requirement already satisfied: text-unidecode in c:\\users\\kdo\\appdata\\local\\programs\\python\\python313\\lib\\site-packages (from kaggle) (1.3)\n",
      "Requirement already satisfied: tqdm in c:\\users\\kdo\\appdata\\local\\programs\\python\\python313\\lib\\site-packages (from kaggle) (4.67.1)\n",
      "Requirement already satisfied: urllib3>=1.15.1 in c:\\users\\kdo\\appdata\\local\\programs\\python\\python313\\lib\\site-packages (from kaggle) (2.4.0)\n",
      "Requirement already satisfied: webencodings in c:\\users\\kdo\\appdata\\local\\programs\\python\\python313\\lib\\site-packages (from kaggle) (0.5.1)\n",
      "Requirement already satisfied: colorama in c:\\users\\kdo\\appdata\\local\\programs\\python\\python313\\lib\\site-packages (from tqdm->kaggle) (0.4.6)\n",
      "Note: you may need to restart the kernel to use updated packages.\n"
     ]
    }
   ],
   "source": [
    "%pip install scikit-learn\n",
    "%pip install pandas\n",
    "%pip install plotly\n",
    "%pip install scipy\n",
    "%pip install kaggle"
   ]
  },
  {
   "cell_type": "code",
   "execution_count": 2,
   "id": "1bcd3108",
   "metadata": {},
   "outputs": [],
   "source": [
    "# !kaggle datasets download saurabh00007/iriscsv"
   ]
  },
  {
   "cell_type": "code",
   "execution_count": null,
   "id": "8a829757",
   "metadata": {},
   "outputs": [],
   "source": [
    "import pandas as pd\n",
    "import plotly.express as px\n",
    "import scipy.stats as sts\n",
    "import numpy as np\n",
    "import plotly.graph_objects as go\n",
    "import seaborn as sns\n",
    "from typing import Dict, List, Tuple, Any, Optional\n",
    "import matplotlib.pyplot as plt"
   ]
  },
  {
   "cell_type": "markdown",
   "id": "10d948ef",
   "metadata": {},
   "source": [
    "# Загрузка и обработка датафрейма"
   ]
  },
  {
   "cell_type": "code",
   "execution_count": 4,
   "id": "0da3d4fa",
   "metadata": {},
   "outputs": [
    {
     "data": {
      "text/html": [
       "<div>\n",
       "<style scoped>\n",
       "    .dataframe tbody tr th:only-of-type {\n",
       "        vertical-align: middle;\n",
       "    }\n",
       "\n",
       "    .dataframe tbody tr th {\n",
       "        vertical-align: top;\n",
       "    }\n",
       "\n",
       "    .dataframe thead th {\n",
       "        text-align: right;\n",
       "    }\n",
       "</style>\n",
       "<table border=\"1\" class=\"dataframe\">\n",
       "  <thead>\n",
       "    <tr style=\"text-align: right;\">\n",
       "      <th></th>\n",
       "      <th>Id</th>\n",
       "      <th>SepalLengthCm</th>\n",
       "      <th>SepalWidthCm</th>\n",
       "      <th>PetalLengthCm</th>\n",
       "      <th>PetalWidthCm</th>\n",
       "      <th>Species</th>\n",
       "    </tr>\n",
       "  </thead>\n",
       "  <tbody>\n",
       "    <tr>\n",
       "      <th>0</th>\n",
       "      <td>1</td>\n",
       "      <td>5.1</td>\n",
       "      <td>3.5</td>\n",
       "      <td>1.4</td>\n",
       "      <td>0.2</td>\n",
       "      <td>Iris-setosa</td>\n",
       "    </tr>\n",
       "    <tr>\n",
       "      <th>1</th>\n",
       "      <td>2</td>\n",
       "      <td>4.9</td>\n",
       "      <td>3.0</td>\n",
       "      <td>1.4</td>\n",
       "      <td>0.2</td>\n",
       "      <td>Iris-setosa</td>\n",
       "    </tr>\n",
       "    <tr>\n",
       "      <th>2</th>\n",
       "      <td>3</td>\n",
       "      <td>4.7</td>\n",
       "      <td>3.2</td>\n",
       "      <td>1.3</td>\n",
       "      <td>0.2</td>\n",
       "      <td>Iris-setosa</td>\n",
       "    </tr>\n",
       "    <tr>\n",
       "      <th>3</th>\n",
       "      <td>4</td>\n",
       "      <td>4.6</td>\n",
       "      <td>3.1</td>\n",
       "      <td>1.5</td>\n",
       "      <td>0.2</td>\n",
       "      <td>Iris-setosa</td>\n",
       "    </tr>\n",
       "    <tr>\n",
       "      <th>4</th>\n",
       "      <td>5</td>\n",
       "      <td>5.0</td>\n",
       "      <td>3.6</td>\n",
       "      <td>1.4</td>\n",
       "      <td>0.2</td>\n",
       "      <td>Iris-setosa</td>\n",
       "    </tr>\n",
       "    <tr>\n",
       "      <th>...</th>\n",
       "      <td>...</td>\n",
       "      <td>...</td>\n",
       "      <td>...</td>\n",
       "      <td>...</td>\n",
       "      <td>...</td>\n",
       "      <td>...</td>\n",
       "    </tr>\n",
       "    <tr>\n",
       "      <th>145</th>\n",
       "      <td>146</td>\n",
       "      <td>6.7</td>\n",
       "      <td>3.0</td>\n",
       "      <td>5.2</td>\n",
       "      <td>2.3</td>\n",
       "      <td>Iris-virginica</td>\n",
       "    </tr>\n",
       "    <tr>\n",
       "      <th>146</th>\n",
       "      <td>147</td>\n",
       "      <td>6.3</td>\n",
       "      <td>2.5</td>\n",
       "      <td>5.0</td>\n",
       "      <td>1.9</td>\n",
       "      <td>Iris-virginica</td>\n",
       "    </tr>\n",
       "    <tr>\n",
       "      <th>147</th>\n",
       "      <td>148</td>\n",
       "      <td>6.5</td>\n",
       "      <td>3.0</td>\n",
       "      <td>5.2</td>\n",
       "      <td>2.0</td>\n",
       "      <td>Iris-virginica</td>\n",
       "    </tr>\n",
       "    <tr>\n",
       "      <th>148</th>\n",
       "      <td>149</td>\n",
       "      <td>6.2</td>\n",
       "      <td>3.4</td>\n",
       "      <td>5.4</td>\n",
       "      <td>2.3</td>\n",
       "      <td>Iris-virginica</td>\n",
       "    </tr>\n",
       "    <tr>\n",
       "      <th>149</th>\n",
       "      <td>150</td>\n",
       "      <td>5.9</td>\n",
       "      <td>3.0</td>\n",
       "      <td>5.1</td>\n",
       "      <td>1.8</td>\n",
       "      <td>Iris-virginica</td>\n",
       "    </tr>\n",
       "  </tbody>\n",
       "</table>\n",
       "<p>150 rows × 6 columns</p>\n",
       "</div>"
      ],
      "text/plain": [
       "      Id  SepalLengthCm  SepalWidthCm  PetalLengthCm  PetalWidthCm  \\\n",
       "0      1            5.1           3.5            1.4           0.2   \n",
       "1      2            4.9           3.0            1.4           0.2   \n",
       "2      3            4.7           3.2            1.3           0.2   \n",
       "3      4            4.6           3.1            1.5           0.2   \n",
       "4      5            5.0           3.6            1.4           0.2   \n",
       "..   ...            ...           ...            ...           ...   \n",
       "145  146            6.7           3.0            5.2           2.3   \n",
       "146  147            6.3           2.5            5.0           1.9   \n",
       "147  148            6.5           3.0            5.2           2.0   \n",
       "148  149            6.2           3.4            5.4           2.3   \n",
       "149  150            5.9           3.0            5.1           1.8   \n",
       "\n",
       "            Species  \n",
       "0       Iris-setosa  \n",
       "1       Iris-setosa  \n",
       "2       Iris-setosa  \n",
       "3       Iris-setosa  \n",
       "4       Iris-setosa  \n",
       "..              ...  \n",
       "145  Iris-virginica  \n",
       "146  Iris-virginica  \n",
       "147  Iris-virginica  \n",
       "148  Iris-virginica  \n",
       "149  Iris-virginica  \n",
       "\n",
       "[150 rows x 6 columns]"
      ]
     },
     "execution_count": 4,
     "metadata": {},
     "output_type": "execute_result"
    }
   ],
   "source": [
    "df = pd.read_csv(\"data/Iris.csv\")\n",
    "df.all().isna()\n",
    "df"
   ]
  },
  {
   "cell_type": "markdown",
   "id": "98ea273d",
   "metadata": {},
   "source": [
    "Пропусков данных нету -- это половина победы"
   ]
  },
  {
   "cell_type": "markdown",
   "id": "5762c92b",
   "metadata": {},
   "source": [
    "# Обработка данных:"
   ]
  },
  {
   "cell_type": "markdown",
   "id": "67161e98",
   "metadata": {},
   "source": [
    "## 1. Самый популярный/непопулярный"
   ]
  },
  {
   "cell_type": "code",
   "execution_count": null,
   "id": "0de7d8c1",
   "metadata": {},
   "outputs": [
    {
     "name": "stdout",
     "output_type": "stream",
     "text": [
      "50 50\n"
     ]
    }
   ],
   "source": [
    "count_type_species: pd.Series = df[\"Species\"].value_counts()\n",
    "must_popular_species: int = count_type_species.max()\n",
    "least_poplar_species: int = count_type_species.min()\n",
    "print(must_popular_species, least_poplar_species)"
   ]
  },
  {
   "cell_type": "markdown",
   "id": "f6f1417f",
   "metadata": {},
   "source": [
    "## 2. Вычисление описательных статистических характеристик:"
   ]
  },
  {
   "cell_type": "markdown",
   "id": "f532716d",
   "metadata": {},
   "source": [
    "### Формирование датафреймов"
   ]
  },
  {
   "cell_type": "code",
   "execution_count": null,
   "id": "c35182a6",
   "metadata": {},
   "outputs": [],
   "source": [
    "\n",
    "# df[\"Species\"].unique() -> ['Iris-setosa', 'Iris-versicolor', 'Iris-virginica']\n",
    "\n",
    "def area_data(df: pd.DataFrame) -> Tuple[pd.Series, pd.Series]:\n",
    "    \"\"\"\n",
    "    Вычисляет площади чашелистиков и лепестков.\n",
    "    \n",
    "    Args:\n",
    "        df: DataFrame с данными о размерах цветков\n",
    "        \n",
    "    Returns:\n",
    "        Tuple из двух Series: площади чашелистиков и лепестков\n",
    "    \"\"\"\n",
    "    return (df[\"SepalLengthCm\"] * df[\"SepalWidthCm\"], df[\"PetalLengthCm\"]*df[\"PetalWidthCm\"])\n",
    "\n",
    "\n",
    "df_iris_setosa: pd.DataFrame = df[df['Species'] == \"Iris-setosa\"].reset_index()\n",
    "df_iris_versicolor: pd.DataFrame = df[df['Species'] == \"Iris-versicolor\"].reset_index()\n",
    "df_iris_virginica: pd.DataFrame = df[df['Species'] == \"Iris-virginica\"].reset_index()\n",
    "\n",
    "area_iris_setosa_sepal: pd.Series\n",
    "area_iris_setosa_petal: pd.Series\n",
    "area_iris_setosa_sepal, area_iris_setosa_petal = area_data(df_iris_setosa)\n",
    "\n",
    "area_iris_versicolor_sepal: pd.Series\n",
    "area_iris_versicolor_petal: pd.Series  \n",
    "area_iris_versicolor_sepal, area_iris_versicolor_petal = area_data(df_iris_versicolor)\n",
    "\n",
    "area_iris_virginica_sepal: pd.Series\n",
    "area_iris_virginica_petal: pd.Series\n",
    "area_iris_virginica_sepal, area_iris_virginica_petal = area_data(df_iris_virginica)\n",
    "\n",
    "area_all_flowers_sepal: pd.Series\n",
    "area_all_flowers_petal: pd.Series\n",
    "area_all_flowers_sepal, area_all_flowers_petal = area_data(df)\n",
    "\n",
    "# Sepal and Petal\n",
    "area_iris_setosa_sepal_petal: pd.Series = pd.concat([area_iris_setosa_sepal,area_iris_setosa_petal], ignore_index=True)\n",
    "area_iris_versicolor_sepal_petal: pd.Series = pd.concat([area_iris_versicolor_sepal, area_iris_versicolor_petal], ignore_index=True)\n",
    "area_iris_virginica_sepal_petal: pd.Series = pd.concat([area_iris_virginica_sepal, area_iris_virginica_petal], ignore_index=True)\n",
    "area_all_flowers_sepal_petal: pd.Series = pd.concat([area_all_flowers_sepal, area_all_flowers_petal], ignore_index=True)\n",
    "\n"
   ]
  },
  {
   "cell_type": "markdown",
   "id": "1c809523",
   "metadata": {},
   "source": [
    "### Вычисление описательных статистик"
   ]
  },
  {
   "cell_type": "code",
   "execution_count": null,
   "id": "8b776f43",
   "metadata": {},
   "outputs": [],
   "source": [
    "def make_table_sts(sepal: pd.Series, petal: pd.Series, sepal_petal: pd.Series, name: str) -> pd.DataFrame:\n",
    "    \"\"\"\n",
    "    Создает таблицу описательных статистик.\n",
    "    \n",
    "    Args:\n",
    "        sepal: Series с площадями чашелистиков\n",
    "        petal: Series с площадями лепестков  \n",
    "        sepal_petal: Series с объединенными площадями\n",
    "        name: Название вида для таблицы\n",
    "        \n",
    "    Returns:\n",
    "        DataFrame с описательными статистиками\n",
    "    \"\"\"\n",
    "    df_area: pd.Series = pd.Series([\n",
    "        sepal,\n",
    "        petal,\n",
    "        sepal_petal,\n",
    "    ])\n",
    "\n",
    "    df_e: pd.Series = df_area.apply(pd.Series.mean)\n",
    "    df_var: pd.Series = df_area.apply(pd.Series.var)\n",
    "    df_med: pd.Series = df_area.apply(pd.Series.median)\n",
    "    df_q_2_5: pd.Series = df_area.apply(pd.Series.quantile, q=2/5)\n",
    "\n",
    "    df_e.index = [\n",
    "        \"Sepal area\",\n",
    "        \"Petal area\",\n",
    "        \"Sepal and Petal area\"\n",
    "    ]\n",
    "\n",
    "    df_sts: pd.DataFrame = df_e.to_frame(name=\"E(x)\").reset_index().rename(columns= {\"index\": name})\n",
    "    df_sts[\"Var(x)\"] = df_var\n",
    "    df_sts[\"Med(x)\"] = df_med\n",
    "    df_sts[\"Quant(x)\"] = df_q_2_5\n",
    "    return df_sts"
   ]
  },
  {
   "cell_type": "code",
   "execution_count": null,
   "id": "e64e389c",
   "metadata": {},
   "outputs": [
    {
     "name": "stdout",
     "output_type": "stream",
     "text": [
      "                 Setosa     E(x)     Var(x)  Med(x)  Quant(x)\n",
      "0            Sepal area  17.2088   8.688864  17.000    16.320\n",
      "1            Petal area   0.3628   0.033580   0.300     0.280\n",
      "2  Sepal and Petal area   8.7858  75.980734   5.655     0.486\n",
      "\n",
      "             Versicolor     E(x)     Var(x)  Med(x)  Quant(x)\n",
      "0            Sepal area  16.5262   8.219012  16.385    15.876\n",
      "1            Petal area   5.7204   1.872526   5.615     5.408\n",
      "2  Sepal and Petal area  11.1233  34.480992   9.320     6.750\n",
      "\n",
      "              Virginica     E(x)     Var(x)  Med(x)  Quant(x)\n",
      "0            Sepal area  19.6846  11.963180  20.060    19.020\n",
      "1            Petal area  11.2962   4.654428  11.445    10.320\n",
      "2  Sepal and Petal area  15.4904  25.993881  14.870    13.164\n",
      "\n",
      "            All flowers       E(x)     Var(x)  Med(x)  Quant(x)\n",
      "0            Sepal area  17.806533  11.348090  17.660    16.800\n",
      "1            Petal area   5.793133  22.217073   5.615     4.524\n",
      "2  Sepal and Petal area  11.799833  52.927568  13.200    10.152\n"
     ]
    }
   ],
   "source": [
    "# --- Setosa ---\n",
    "setosa: pd.DataFrame = make_table_sts(area_iris_setosa_sepal, area_iris_setosa_petal, area_iris_setosa_sepal_petal, name=\"Setosa\")\n",
    "versicolor: pd.DataFrame = make_table_sts(area_iris_versicolor_sepal, area_iris_versicolor_petal, area_iris_versicolor_sepal_petal, name=\"Versicolor\")\n",
    "virginica: pd.DataFrame = make_table_sts(area_iris_virginica_sepal, area_iris_virginica_petal, area_iris_virginica_sepal_petal, name=\"Virginica\")\n",
    "all_flowers: pd.DataFrame = make_table_sts(area_all_flowers_sepal, area_all_flowers_petal, area_all_flowers_sepal_petal, name=\"All flowers\")\n",
    "\n",
    "print(setosa, versicolor, virginica, all_flowers, sep=\"\\n\\n\")"
   ]
  },
  {
   "cell_type": "markdown",
   "id": "13bbff5c",
   "metadata": {},
   "source": [
    "### ECDF"
   ]
  },
  {
   "cell_type": "code",
   "execution_count": null,
   "id": "0790c730",
   "metadata": {},
   "outputs": [
    {
     "data": {
      "application/vnd.plotly.v1+json": {
       "config": {
        "plotlyServerURL": "https://plot.ly"
       },
       "data": [
        {
         "mode": "lines",
         "name": "Setosa",
         "type": "scatter",
         "x": {
          "bdata": "exSuR+F6JUCE61G4HgUqQBSuR+F6FCpA7FG4HoXrKkCvR+F6FK4sQBSuR+F6FC1AH4XrUbgeLUCjcD0K16MtQPYoXI/C9S1A////////LUBmZmZmZmYuQJqZmZmZmS5ApHA9CtejLkCvR+F6FK4uQLkehetRuC5Aj8L1KFwPMEA9CtejcD0wQKRwPQrXozBAMzMzMzOzMEDC9Shcj8IwQEjhehSuxzBAzczMzMxMMUCkcD0K16MxQK5H4XoUrjFApHA9CtfjMUD2KFyPwvUxQOF6FK5HITJAhetRuB5FMkBI4XoUrkcyQPYoXI/CdTJAAAAAAACAMkAzMzMzM7MyQPYoXI/C9TJAuR6F61F4M0DD9Shcj4IzQDMzMzMzszNAFK5H4XrUM0ApXI/C9egzQKRwPQrXIzRASeF6FK5HNEC4HoXrUXg1QBWuR+F6lDVAPgrXo3C9NUDsUbgehSs2QOJ6FK5HYTdAcD0K16NwN0CvR+F6FK45QA==",
          "dtype": "f8"
         },
         "y": {
          "bdata": "exSuR+F6lD97FK5H4XqkP7gehetRuK4/exSuR+F6tD+amZmZmZm5P7gehetRuL4/7FG4HoXrwT97FK5H4XrEPwrXo3A9Csc/mpmZmZmZyT8pXI/C9SjMP7gehetRuM4/pHA9Ctej0D97FK5H4XrUP8P1KFyPwtU/CtejcD0K1z9SuB6F61HYP5qZmZmZmdk/4XoUrkfh2j8pXI/C9SjcP3E9CtejcN0/uB6F61G43j+kcD0K16PgP0jhehSuR+E/7FG4HoXr4T+PwvUoXI/iPzMzMzMzM+M/16NwPQrX4z97FK5H4XrkPx+F61G4HuU/w/UoXI/C5T9mZmZmZmbmPwrXo3A9Cuc/rkfhehSu5z9SuB6F61HoP/YoXI/C9eg/mpmZmZmZ6T89CtejcD3qP+F6FK5H4eo/hetRuB6F6z8pXI/C9SjsP83MzMzMzOw/cT0K16Nw7T8UrkfhehTuP7gehetRuO4/XI/C9Shc7z8AAAAAAADwPw==",
          "dtype": "f8"
         }
        },
        {
         "mode": "lines",
         "name": "Versicolor",
         "type": "scatter",
         "x": {
          "bdata": "AAAAAAAAK0CamZmZmZktQB6F61G4Hi5AzczMzMwMMEBmZmZmZuYwQDQzMzMzMzFA4XoUrkdhMUCZmZmZmdkxQArXo3A9SjJAUrgehetRMkAzMzMzM/MyQAAAAAAAgDNAFa5H4XqUM0DC9Shcj8IzQOF6FK5H4TNA9ihcj8I1NEDXo3A9Clc0QKRwPQrXYzRAFK5H4XqUNEDrUbgehes0QArXo3A9SjVAj8L1KFzPNUA+CtejcP01QOB6FK5HITZApHA9CtcjNkBH4XoUrkc2QLgehetRuDZANDMzMzPzNkCamZmZmRk3QMzMzMzMjDdAUrgeheuRN0ABAAAAAAA4QGZmZmZmJjhAhOtRuB5FOEBdj8L1KFw4QDwK16NwvThAmZmZmZkZOUAehetRuB45QML1KFyPwjlA9Shcj8L1OUCuR+F6FO46QHwUrkfhOjtAhutRuB6FO0CZmZmZmZk7QFK4HoXr0TtAj8L1KFxPPECamZmZmZk8QD4K16NwvTxAfBSuR+H6PEA=",
          "dtype": "f8"
         },
         "y": {
          "bdata": "exSuR+F6lD97FK5H4XqkP7gehetRuK4/exSuR+F6tD+amZmZmZm5P7gehetRuL4/7FG4HoXrwT97FK5H4XrEPwrXo3A9Csc/mpmZmZmZyT8pXI/C9SjMP7gehetRuM4/pHA9Ctej0D/sUbgehevRPzMzMzMzM9M/exSuR+F61D/D9Shcj8LVPwrXo3A9Ctc/UrgehetR2D+amZmZmZnZP+F6FK5H4do/KVyPwvUo3D9xPQrXo3DdP7gehetRuN4/AAAAAAAA4D+kcD0K16PgP0jhehSuR+E/7FG4HoXr4T+PwvUoXI/iPzMzMzMzM+M/16NwPQrX4z97FK5H4XrkP8P1KFyPwuU/ZmZmZmZm5j8K16NwPQrnP65H4XoUruc/UrgehetR6D/2KFyPwvXoP5qZmZmZmek/PQrXo3A96j/hehSuR+HqP4XrUbgehes/KVyPwvUo7D/NzMzMzMzsP3E9CtejcO0/FK5H4XoU7j+4HoXrUbjuP1yPwvUoXO8/AAAAAAAA8D8=",
          "dtype": "f8"
         }
        },
        {
         "mode": "lines",
         "name": "Virginica",
         "type": "scatter",
         "x": {
          "bdata": "ZmZmZmbmM0A0MzMzM7M0QDMzMzMzszdAAAAAAABAOEAAAAAAAEA5QAnXo3A9SjlAmpmZmZlZOUB6FK5H4Xo5QBWuR+F61DlAAAAAAAAAOkCkcD0K16M6QOJ6FK5H4TpAHoXrUbgeO0BwPQrXozA7QJqZmZmZWTtAmpmZmZlZPEB6FK5H4Xo8QGZmZmZmZj1ArkfhehSuPUA+CtejcL09QGZmZmZm5j1APQrXo3A9PkDiehSuR+E+QAAAAAAAAD9AMzMzMzPzP0BI4XoUrgdAQOF6FK5HIUBAR+F6FK4nQEDhehSuR0FAQPYoXI/CVUBAPgrXo3BdQECPwvUoXI9AQAAAAAAAwEBAuB6F61HYQEDsUbgehetAQArXo3A9CkFAexSuR+EaQUCuR+F6FG5BQHsUrkfhekFAuB6F61GYQUAK16NwPapBQIXrUbge5UFAUrgehevxQUCuR+F6FC5CQBSuR+F6VEJAcD0K16OQQkD2KFyPwpVEQClcj8L1aEVAAAAAAAAARkA=",
          "dtype": "f8"
         },
         "y": {
          "bdata": "exSuR+F6lD97FK5H4XqkP7gehetRuK4/exSuR+F6tD+amZmZmZm5P7gehetRuL4/exSuR+F6xD8K16NwPQrHP5qZmZmZmck/KVyPwvUozD+4HoXrUbjOP6RwPQrXo9A/7FG4HoXr0T8zMzMzMzPTP3sUrkfhetQ/w/UoXI/C1T8K16NwPQrXP1K4HoXrUdg/mpmZmZmZ2T/hehSuR+HaPylcj8L1KNw/cT0K16Nw3T+4HoXrUbjePwAAAAAAAOA/pHA9Ctej4D9I4XoUrkfhP+xRuB6F6+E/j8L1KFyP4j8zMzMzMzPjP9ejcD0K1+M/exSuR+F65D8fhetRuB7lP8P1KFyPwuU/ZmZmZmZm5j8K16NwPQrnP65H4XoUruc/UrgehetR6D/2KFyPwvXoP5qZmZmZmek/PQrXo3A96j/hehSuR+HqP4XrUbgehes/KVyPwvUo7D/NzMzMzMzsP3E9CtejcO0/FK5H4XoU7j+4HoXrUbjuP1yPwvUoXO8/AAAAAAAA8D8=",
          "dtype": "f8"
         }
        },
        {
         "mode": "lines",
         "name": "All",
         "type": "scatter",
         "x": {
          "bdata": "exSuR+F6JUCE61G4HgUqQBSuR+F6FCpA7FG4HoXrKkAAAAAAAAArQK9H4XoUrixAFK5H4XoULUAfhetRuB4tQJqZmZmZmS1Ao3A9CtejLUD2KFyPwvUtQP///////y1AHoXrUbgeLkBmZmZmZmYuQJqZmZmZmS5ApHA9CtejLkCvR+F6FK4uQLkehetRuC5AzczMzMwMMECPwvUoXA8wQD0K16NwPTBApHA9CtejMEAzMzMzM7MwQML1KFyPwjBASOF6FK7HMEBmZmZmZuYwQDQzMzMzMzFAzczMzMxMMUDhehSuR2ExQKRwPQrXozFArkfhehSuMUCZmZmZmdkxQKRwPQrX4zFA9ihcj8L1MUDhehSuRyEyQIXrUbgeRTJASOF6FK5HMkAK16NwPUoyQFK4HoXrUTJA9ihcj8J1MkAAAAAAAIAyQDMzMzMzszJAMzMzMzPzMkD2KFyPwvUyQLkehetReDNAAAAAAACAM0DD9Shcj4IzQBWuR+F6lDNAMzMzMzOzM0DC9Shcj8IzQBSuR+F61DNA4XoUrkfhM0BmZmZmZuYzQClcj8L16DNApHA9CtcjNED2KFyPwjU0QEnhehSuRzRA16NwPQpXNECkcD0K12M0QBSuR+F6lDRANDMzMzOzNEDrUbgehes0QArXo3A9SjVAuB6F61F4NUAVrkfhepQ1QD4K16NwvTVAj8L1KFzPNUA+CtejcP01QOB6FK5HITZApHA9CtcjNkDsUbgehSs2QEfhehSuRzZAuB6F61G4NkA0MzMzM/M2QJqZmZmZGTdA4noUrkdhN0BwPQrXo3A3QMzMzMzMjDdAUrgeheuRN0AzMzMzM7M3QAEAAAAAADhAZmZmZmYmOEAAAAAAAEA4QITrUbgeRThAXY/C9ShcOEA8CtejcL04QJmZmZmZGTlAHoXrUbgeOUAAAAAAAEA5QAnXo3A9SjlAmpmZmZlZOUB6FK5H4Xo5QK9H4XoUrjlAwvUoXI/COUAVrkfhetQ5QPUoXI/C9TlAAAAAAAAAOkCkcD0K16M6QOJ6FK5H4TpArkfhehTuOkAehetRuB47QHA9CtejMDtAfBSuR+E6O0CamZmZmVk7QIbrUbgehTtAmZmZmZmZO0BSuB6F69E7QI/C9ShcTzxAmpmZmZlZPEB6FK5H4Xo8QJqZmZmZmTxAPgrXo3C9PEB8FK5H4fo8QGZmZmZmZj1ArkfhehSuPUA+CtejcL09QGZmZmZm5j1APQrXo3A9PkDiehSuR+E+QAAAAAAAAD9AMzMzMzPzP0BI4XoUrgdAQOF6FK5HIUBAR+F6FK4nQEDhehSuR0FAQPYoXI/CVUBAPgrXo3BdQECPwvUoXI9AQAAAAAAAwEBAuB6F61HYQEDsUbgehetAQArXo3A9CkFAexSuR+EaQUCuR+F6FG5BQHsUrkfhekFAuB6F61GYQUAK16NwPapBQIXrUbge5UFAUrgehevxQUCuR+F6FC5CQBSuR+F6VEJAcD0K16OQQkD2KFyPwpVEQClcj8L1aEVAAAAAAAAARkA=",
          "dtype": "f8"
         },
         "y": {
          "bdata": "TxvotIFOez9PG+i0gU6LP3sUrkfhepQ/TxvotIFOmz8RERERERGhP3sUrkfheqQ/5RdLfrHkpz9PG+i0gU6rP7gehetRuK4/ERERERERsT/Gkl8s+cWyP3sUrkfherQ/MJb8Yskvtj/lF0t+seS3P5qZmZmZmbk/TxvotIFOuz830GkDnTbAPxEREREREcE/7FG4HoXrwT/Gkl8s+cXCP6DTBjptoMM/exSuR+F6xD9VVVVVVVXFPzCW/GLJL8Y/CtejcD0Kxz/lF0t+seTHP79Y8oslv8g/mpmZmZmZyT902kCnDXTKPylcj8L1KMw/A5020GkDzT/e3d3d3d3NP7gehetRuM4/k18s+cWSzz830GkDnTbQP6RwPQrXo9A/ERERERER0T9+seQXS37RP+xRuB6F69E/WfKLJb9Y0j/Gkl8s+cXSPzMzMzMzM9M/oNMGOm2g0z8OdNpApw3UP3sUrkfhetQ/6LSBThvo1D9VVVVVVVXVP8P1KFyPwtU/MJb8Yskv1j+dNtBpA53WPwrXo3A9Ctc/d3d3d3d31z/lF0t+seTXP1K4HoXrUdg/v1jyiyW/2D8s+cWSXyzZP5qZmZmZmdk/BzptoNMG2j902kCnDXTaP+F6FK5H4do/TxvotIFO2z+8u7u7u7vbPylcj8L1KNw/lvxiyS+W3D8DnTbQaQPdP3E9CtejcN0/3t3d3d3d3T9LfrHkF0veP7gehetRuN4/Jr9Y8osl3z+TXyz5xZLfPwAAAAAAAOA/N9BpA5024D9toNMGOm3gP6RwPQrXo+A/2kCnDXTa4D8RERERERHhP0jhehSuR+E/frHkF0t+4T+1gU4b6LThP+xRuB6F6+E/WfKLJb9Y4j+PwvUoXI/iP8aSXyz5xeI//WLJL5b84j8zMzMzMzPjP2oDnTbQaeM/oNMGOm2g4z/Xo3A9CtfjPw502kCnDeQ/exSuR+F65D+x5BdLfrHkP+i0gU4b6OQ/H4XrUbge5T9VVVVVVVXlP4wlv1jyi+U/w/UoXI/C5T/5xZJfLPnlPzCW/GLJL+Y/ZmZmZmZm5j+dNtBpA53mP9QGOm2g0+Y/CtejcD0K5z9Bpw102kDnP3d3d3d3d+c/rkfhehSu5z/lF0t+seTnPxvotIFOG+g/UrgehetR6D+JiIiIiIjoP79Y8oslv+g/9ihcj8L16D8s+cWSXyzpP2PJL5b8Yuk/mpmZmZmZ6T/QaQOdNtDpPwc6baDTBuo/PQrXo3A96j902kCnDXTqP6uqqqqqquo/4XoUrkfh6j8YS36x5BfrP08b6LSBTus/hetRuB6F6z+8u7u7u7vrP/KLJb9Y8us/KVyPwvUo7D9gLPnFkl/sP5b8Yskvluw/zczMzMzM7D8DnTbQaQPtPzptoNMGOu0/cT0K16Nw7T+nDXTaQKftP97d3d3d3e0/FK5H4XoU7j9LfrHkF0vuP4JOG+i0ge4/uB6F61G47j/v7u7u7u7uPya/WPKLJe8/XI/C9Shc7z+TXyz5xZLvP8kvlvxiye8/AAAAAAAA8D8=",
          "dtype": "f8"
         }
        }
       ],
       "layout": {
        "template": {
         "data": {
          "bar": [
           {
            "error_x": {
             "color": "#2a3f5f"
            },
            "error_y": {
             "color": "#2a3f5f"
            },
            "marker": {
             "line": {
              "color": "#E5ECF6",
              "width": 0.5
             },
             "pattern": {
              "fillmode": "overlay",
              "size": 10,
              "solidity": 0.2
             }
            },
            "type": "bar"
           }
          ],
          "barpolar": [
           {
            "marker": {
             "line": {
              "color": "#E5ECF6",
              "width": 0.5
             },
             "pattern": {
              "fillmode": "overlay",
              "size": 10,
              "solidity": 0.2
             }
            },
            "type": "barpolar"
           }
          ],
          "carpet": [
           {
            "aaxis": {
             "endlinecolor": "#2a3f5f",
             "gridcolor": "white",
             "linecolor": "white",
             "minorgridcolor": "white",
             "startlinecolor": "#2a3f5f"
            },
            "baxis": {
             "endlinecolor": "#2a3f5f",
             "gridcolor": "white",
             "linecolor": "white",
             "minorgridcolor": "white",
             "startlinecolor": "#2a3f5f"
            },
            "type": "carpet"
           }
          ],
          "choropleth": [
           {
            "colorbar": {
             "outlinewidth": 0,
             "ticks": ""
            },
            "type": "choropleth"
           }
          ],
          "contour": [
           {
            "colorbar": {
             "outlinewidth": 0,
             "ticks": ""
            },
            "colorscale": [
             [
              0,
              "#0d0887"
             ],
             [
              0.1111111111111111,
              "#46039f"
             ],
             [
              0.2222222222222222,
              "#7201a8"
             ],
             [
              0.3333333333333333,
              "#9c179e"
             ],
             [
              0.4444444444444444,
              "#bd3786"
             ],
             [
              0.5555555555555556,
              "#d8576b"
             ],
             [
              0.6666666666666666,
              "#ed7953"
             ],
             [
              0.7777777777777778,
              "#fb9f3a"
             ],
             [
              0.8888888888888888,
              "#fdca26"
             ],
             [
              1,
              "#f0f921"
             ]
            ],
            "type": "contour"
           }
          ],
          "contourcarpet": [
           {
            "colorbar": {
             "outlinewidth": 0,
             "ticks": ""
            },
            "type": "contourcarpet"
           }
          ],
          "heatmap": [
           {
            "colorbar": {
             "outlinewidth": 0,
             "ticks": ""
            },
            "colorscale": [
             [
              0,
              "#0d0887"
             ],
             [
              0.1111111111111111,
              "#46039f"
             ],
             [
              0.2222222222222222,
              "#7201a8"
             ],
             [
              0.3333333333333333,
              "#9c179e"
             ],
             [
              0.4444444444444444,
              "#bd3786"
             ],
             [
              0.5555555555555556,
              "#d8576b"
             ],
             [
              0.6666666666666666,
              "#ed7953"
             ],
             [
              0.7777777777777778,
              "#fb9f3a"
             ],
             [
              0.8888888888888888,
              "#fdca26"
             ],
             [
              1,
              "#f0f921"
             ]
            ],
            "type": "heatmap"
           }
          ],
          "histogram": [
           {
            "marker": {
             "pattern": {
              "fillmode": "overlay",
              "size": 10,
              "solidity": 0.2
             }
            },
            "type": "histogram"
           }
          ],
          "histogram2d": [
           {
            "colorbar": {
             "outlinewidth": 0,
             "ticks": ""
            },
            "colorscale": [
             [
              0,
              "#0d0887"
             ],
             [
              0.1111111111111111,
              "#46039f"
             ],
             [
              0.2222222222222222,
              "#7201a8"
             ],
             [
              0.3333333333333333,
              "#9c179e"
             ],
             [
              0.4444444444444444,
              "#bd3786"
             ],
             [
              0.5555555555555556,
              "#d8576b"
             ],
             [
              0.6666666666666666,
              "#ed7953"
             ],
             [
              0.7777777777777778,
              "#fb9f3a"
             ],
             [
              0.8888888888888888,
              "#fdca26"
             ],
             [
              1,
              "#f0f921"
             ]
            ],
            "type": "histogram2d"
           }
          ],
          "histogram2dcontour": [
           {
            "colorbar": {
             "outlinewidth": 0,
             "ticks": ""
            },
            "colorscale": [
             [
              0,
              "#0d0887"
             ],
             [
              0.1111111111111111,
              "#46039f"
             ],
             [
              0.2222222222222222,
              "#7201a8"
             ],
             [
              0.3333333333333333,
              "#9c179e"
             ],
             [
              0.4444444444444444,
              "#bd3786"
             ],
             [
              0.5555555555555556,
              "#d8576b"
             ],
             [
              0.6666666666666666,
              "#ed7953"
             ],
             [
              0.7777777777777778,
              "#fb9f3a"
             ],
             [
              0.8888888888888888,
              "#fdca26"
             ],
             [
              1,
              "#f0f921"
             ]
            ],
            "type": "histogram2dcontour"
           }
          ],
          "mesh3d": [
           {
            "colorbar": {
             "outlinewidth": 0,
             "ticks": ""
            },
            "type": "mesh3d"
           }
          ],
          "parcoords": [
           {
            "line": {
             "colorbar": {
              "outlinewidth": 0,
              "ticks": ""
             }
            },
            "type": "parcoords"
           }
          ],
          "pie": [
           {
            "automargin": true,
            "type": "pie"
           }
          ],
          "scatter": [
           {
            "fillpattern": {
             "fillmode": "overlay",
             "size": 10,
             "solidity": 0.2
            },
            "type": "scatter"
           }
          ],
          "scatter3d": [
           {
            "line": {
             "colorbar": {
              "outlinewidth": 0,
              "ticks": ""
             }
            },
            "marker": {
             "colorbar": {
              "outlinewidth": 0,
              "ticks": ""
             }
            },
            "type": "scatter3d"
           }
          ],
          "scattercarpet": [
           {
            "marker": {
             "colorbar": {
              "outlinewidth": 0,
              "ticks": ""
             }
            },
            "type": "scattercarpet"
           }
          ],
          "scattergeo": [
           {
            "marker": {
             "colorbar": {
              "outlinewidth": 0,
              "ticks": ""
             }
            },
            "type": "scattergeo"
           }
          ],
          "scattergl": [
           {
            "marker": {
             "colorbar": {
              "outlinewidth": 0,
              "ticks": ""
             }
            },
            "type": "scattergl"
           }
          ],
          "scattermap": [
           {
            "marker": {
             "colorbar": {
              "outlinewidth": 0,
              "ticks": ""
             }
            },
            "type": "scattermap"
           }
          ],
          "scattermapbox": [
           {
            "marker": {
             "colorbar": {
              "outlinewidth": 0,
              "ticks": ""
             }
            },
            "type": "scattermapbox"
           }
          ],
          "scatterpolar": [
           {
            "marker": {
             "colorbar": {
              "outlinewidth": 0,
              "ticks": ""
             }
            },
            "type": "scatterpolar"
           }
          ],
          "scatterpolargl": [
           {
            "marker": {
             "colorbar": {
              "outlinewidth": 0,
              "ticks": ""
             }
            },
            "type": "scatterpolargl"
           }
          ],
          "scatterternary": [
           {
            "marker": {
             "colorbar": {
              "outlinewidth": 0,
              "ticks": ""
             }
            },
            "type": "scatterternary"
           }
          ],
          "surface": [
           {
            "colorbar": {
             "outlinewidth": 0,
             "ticks": ""
            },
            "colorscale": [
             [
              0,
              "#0d0887"
             ],
             [
              0.1111111111111111,
              "#46039f"
             ],
             [
              0.2222222222222222,
              "#7201a8"
             ],
             [
              0.3333333333333333,
              "#9c179e"
             ],
             [
              0.4444444444444444,
              "#bd3786"
             ],
             [
              0.5555555555555556,
              "#d8576b"
             ],
             [
              0.6666666666666666,
              "#ed7953"
             ],
             [
              0.7777777777777778,
              "#fb9f3a"
             ],
             [
              0.8888888888888888,
              "#fdca26"
             ],
             [
              1,
              "#f0f921"
             ]
            ],
            "type": "surface"
           }
          ],
          "table": [
           {
            "cells": {
             "fill": {
              "color": "#EBF0F8"
             },
             "line": {
              "color": "white"
             }
            },
            "header": {
             "fill": {
              "color": "#C8D4E3"
             },
             "line": {
              "color": "white"
             }
            },
            "type": "table"
           }
          ]
         },
         "layout": {
          "annotationdefaults": {
           "arrowcolor": "#2a3f5f",
           "arrowhead": 0,
           "arrowwidth": 1
          },
          "autotypenumbers": "strict",
          "coloraxis": {
           "colorbar": {
            "outlinewidth": 0,
            "ticks": ""
           }
          },
          "colorscale": {
           "diverging": [
            [
             0,
             "#8e0152"
            ],
            [
             0.1,
             "#c51b7d"
            ],
            [
             0.2,
             "#de77ae"
            ],
            [
             0.3,
             "#f1b6da"
            ],
            [
             0.4,
             "#fde0ef"
            ],
            [
             0.5,
             "#f7f7f7"
            ],
            [
             0.6,
             "#e6f5d0"
            ],
            [
             0.7,
             "#b8e186"
            ],
            [
             0.8,
             "#7fbc41"
            ],
            [
             0.9,
             "#4d9221"
            ],
            [
             1,
             "#276419"
            ]
           ],
           "sequential": [
            [
             0,
             "#0d0887"
            ],
            [
             0.1111111111111111,
             "#46039f"
            ],
            [
             0.2222222222222222,
             "#7201a8"
            ],
            [
             0.3333333333333333,
             "#9c179e"
            ],
            [
             0.4444444444444444,
             "#bd3786"
            ],
            [
             0.5555555555555556,
             "#d8576b"
            ],
            [
             0.6666666666666666,
             "#ed7953"
            ],
            [
             0.7777777777777778,
             "#fb9f3a"
            ],
            [
             0.8888888888888888,
             "#fdca26"
            ],
            [
             1,
             "#f0f921"
            ]
           ],
           "sequentialminus": [
            [
             0,
             "#0d0887"
            ],
            [
             0.1111111111111111,
             "#46039f"
            ],
            [
             0.2222222222222222,
             "#7201a8"
            ],
            [
             0.3333333333333333,
             "#9c179e"
            ],
            [
             0.4444444444444444,
             "#bd3786"
            ],
            [
             0.5555555555555556,
             "#d8576b"
            ],
            [
             0.6666666666666666,
             "#ed7953"
            ],
            [
             0.7777777777777778,
             "#fb9f3a"
            ],
            [
             0.8888888888888888,
             "#fdca26"
            ],
            [
             1,
             "#f0f921"
            ]
           ]
          },
          "colorway": [
           "#636efa",
           "#EF553B",
           "#00cc96",
           "#ab63fa",
           "#FFA15A",
           "#19d3f3",
           "#FF6692",
           "#B6E880",
           "#FF97FF",
           "#FECB52"
          ],
          "font": {
           "color": "#2a3f5f"
          },
          "geo": {
           "bgcolor": "white",
           "lakecolor": "white",
           "landcolor": "#E5ECF6",
           "showlakes": true,
           "showland": true,
           "subunitcolor": "white"
          },
          "hoverlabel": {
           "align": "left"
          },
          "hovermode": "closest",
          "mapbox": {
           "style": "light"
          },
          "paper_bgcolor": "white",
          "plot_bgcolor": "#E5ECF6",
          "polar": {
           "angularaxis": {
            "gridcolor": "white",
            "linecolor": "white",
            "ticks": ""
           },
           "bgcolor": "#E5ECF6",
           "radialaxis": {
            "gridcolor": "white",
            "linecolor": "white",
            "ticks": ""
           }
          },
          "scene": {
           "xaxis": {
            "backgroundcolor": "#E5ECF6",
            "gridcolor": "white",
            "gridwidth": 2,
            "linecolor": "white",
            "showbackground": true,
            "ticks": "",
            "zerolinecolor": "white"
           },
           "yaxis": {
            "backgroundcolor": "#E5ECF6",
            "gridcolor": "white",
            "gridwidth": 2,
            "linecolor": "white",
            "showbackground": true,
            "ticks": "",
            "zerolinecolor": "white"
           },
           "zaxis": {
            "backgroundcolor": "#E5ECF6",
            "gridcolor": "white",
            "gridwidth": 2,
            "linecolor": "white",
            "showbackground": true,
            "ticks": "",
            "zerolinecolor": "white"
           }
          },
          "shapedefaults": {
           "line": {
            "color": "#2a3f5f"
           }
          },
          "ternary": {
           "aaxis": {
            "gridcolor": "white",
            "linecolor": "white",
            "ticks": ""
           },
           "baxis": {
            "gridcolor": "white",
            "linecolor": "white",
            "ticks": ""
           },
           "bgcolor": "#E5ECF6",
           "caxis": {
            "gridcolor": "white",
            "linecolor": "white",
            "ticks": ""
           }
          },
          "title": {
           "x": 0.05
          },
          "xaxis": {
           "automargin": true,
           "gridcolor": "white",
           "linecolor": "white",
           "ticks": "",
           "title": {
            "standoff": 15
           },
           "zerolinecolor": "white",
           "zerolinewidth": 2
          },
          "yaxis": {
           "automargin": true,
           "gridcolor": "white",
           "linecolor": "white",
           "ticks": "",
           "title": {
            "standoff": 15
           },
           "zerolinecolor": "white",
           "zerolinewidth": 2
          }
         }
        },
        "title": {
         "text": "Эмпирические функции распределения"
        },
        "xaxis": {
         "title": {
          "text": "Суммарная площадь чашелистика и лепестка"
         }
        },
        "yaxis": {
         "title": {
          "text": "Эмпирическая функция распределения"
         }
        }
       }
      }
     },
     "metadata": {},
     "output_type": "display_data"
    }
   ],
   "source": [
    "\n",
    "fig: go.Figure = go.Figure()\n",
    "fig.update_layout(\n",
    "    xaxis_title=\"Суммарная площадь чашелистика и лепестка\",\n",
    "    yaxis_title=\"Эмпирическая функция распределения\",\n",
    "    title=\"Эмпирические функции распределения\"\n",
    ")\n",
    "\n",
    "area_iris_setosa_sepal_petal_sum: pd.Series = area_iris_setosa_sepal.add(area_iris_setosa_petal)\n",
    "area_iris_versicolor_sepal_petal_sum: pd.Series = area_iris_versicolor_sepal.add(area_iris_versicolor_petal)\n",
    "area_iris_virginica_sepal_petal_sum: pd.Series = area_iris_virginica_sepal.add(area_iris_virginica_petal)\n",
    "area_all_flowers_sepal_petal_sum: pd.Series = area_all_flowers_sepal.add(area_all_flowers_petal)\n",
    "\n",
    "def make_ecdf(data_flowers: pd.Series) -> sts._survival.EmpiricalDistributionFunction:\n",
    "    \"\"\"\n",
    "    Создает эмпирическую функцию распределения.\n",
    "    \n",
    "    Args:\n",
    "        data_flowers: Series с данными\n",
    "        \n",
    "    Returns:\n",
    "        Объект эмпирической функции распределения\n",
    "    \"\"\"\n",
    "    return sts.ecdf(data_flowers).cdf\n",
    "\n",
    "ecdf_setosa: sts._survival.EmpiricalDistributionFunction = make_ecdf(area_iris_setosa_sepal_petal_sum)\n",
    "ecdf_versicolor: sts._survival.EmpiricalDistributionFunction = make_ecdf(area_iris_versicolor_sepal_petal_sum)\n",
    "ecdf_virginica: sts._survival.EmpiricalDistributionFunction = make_ecdf(area_iris_virginica_sepal_petal_sum)\n",
    "ecdf_all: sts._survival.EmpiricalDistributionFunction = make_ecdf(area_all_flowers_sepal_petal_sum)\n",
    "\n",
    "\n",
    "def make_fig(fig: go.Figure, data_flowers_ecdf: sts._survival.EmpiricalDistributionFunction, name_legend: str) -> None:\n",
    "    \"\"\"\n",
    "    Добавляет линию ECDF на график.\n",
    "    \n",
    "    Args:\n",
    "        fig: Объект графика Plotly\n",
    "        data_flowers_ecdf: Эмпирическая функция распределения\n",
    "        name_legend: Название для легенды\n",
    "    \"\"\"\n",
    "    fig.add_trace(\n",
    "        go.Scatter(\n",
    "            x=data_flowers_ecdf.quantiles,\n",
    "            y=data_flowers_ecdf.probabilities,\n",
    "            mode=\"lines\",\n",
    "            name=name_legend)\n",
    "    )\n",
    "\n",
    "make_fig(fig, ecdf_setosa, \"Setosa\")\n",
    "make_fig(fig, ecdf_versicolor, \"Versicolor\")\n",
    "make_fig(fig, ecdf_virginica, \"Virginica\")\n",
    "make_fig(fig, ecdf_all, \"All\")\n",
    "\n",
    "fig.show()\n"
   ]
  },
  {
   "cell_type": "markdown",
   "id": "9427a463",
   "metadata": {},
   "source": [
    "### Histogram"
   ]
  },
  {
   "cell_type": "code",
   "execution_count": null,
   "id": "1a438ed4",
   "metadata": {},
   "outputs": [
    {
     "data": {
      "application/vnd.plotly.v1+json": {
       "config": {
        "plotlyServerURL": "https://plot.ly"
       },
       "data": [
        {
         "name": "Setosa",
         "opacity": 0.5,
         "type": "histogram",
         "x": {
          "bdata": "4XoUrkchMkD2KFyPwvUtQJqZmZmZmS5AH4XrUbgeLUBI4XoUrkcyQD4K16NwvTVAj8L1KFwPMEDNzMzMzEwxQBSuR+F6FCpAr0fhehSuLkBJ4XoUrkc0QKRwPQrXozBAFK5H4XoULUCE61G4HgUqQHA9CtejcDdAr0fhehSuOUAVrkfhepQ1QIXrUbgeRTJA7FG4HoUrNkAUrkfhetQzQDMzMzMzszJAuR6F61F4M0DC9Shcj8IwQK5H4XoUrjFAMzMzMzOzMECkcD0K16MuQKRwPQrXozFAAAAAAACAMkD2KFyPwvUxQLkehetRuC5AZmZmZmZmLkD2KFyPwvUyQLgehetReDVA4noUrkdhN0CvR+F6FK4uQD0K16NwPTBAw/UoXI+CM0CvR+F6FK4uQOxRuB6F6ypApHA9CtejMUCkcD0K1+MxQHsUrkfheiVAr0fhehSuLED2KFyPwnUyQKRwPQrXIzRAo3A9CtejLUAzMzMzM7MzQP///////y1AKVyPwvXoM0BI4XoUrscwQA==",
          "dtype": "f8"
         }
        },
        {
         "name": "Versicolor",
         "opacity": 0.5,
         "type": "histogram",
         "x": {
          "bdata": "fBSuR+H6PEB8FK5H4To7QD4K16NwvTxAmZmZmZnZMUCZmZmZmRk5QI/C9ShczzVAj8L1KFxPPEAehetRuB4uQB6F61G4HjlAAAAAAACAM0AAAAAAAAArQAEAAAAAADhANDMzMzMzMUCE61G4HkU4QOtRuB6F6zRArkfhehTuOkDMzMzMzIw3QML1KFyPwjNApHA9CtdjNEAK16NwPUoyQIbrUbgehTtAR+F6FK5HNkCamZmZmRk3QLgehetRuDZAZmZmZmYmOED1KFyPwvU5QML1KFyPwjlAmpmZmZmZPEBmZmZmZiY4QFK4HoXrUTJA4XoUrkdhMUBmZmZmZuYwQNejcD0KVzRAXY/C9ShcOEA0MzMzM/M2QJmZmZmZmTtAUrgehevRO0D2KFyPwjU0QOB6FK5HITZAMzMzMzPzMkAVrkfhepQzQDwK16NwvThA4XoUrkfhM0CamZmZmZktQBSuR+F6lDRApHA9CtcjNkA+CtejcP01QFK4HoXrkTdAzczMzMwMMEAK16NwPUo1QA==",
          "dtype": "f8"
         }
        },
        {
         "name": "Virginica",
         "opacity": 0.5,
         "type": "histogram",
         "x": {
          "bdata": "hetRuB7lQUCamZmZmVk5QLgehetR2EBAmpmZmZlZPEDhehSuRyFAQBSuR+F6VEJAZmZmZmbmM0DhehSuR0FAQHA9CtejMDtA9ihcj8KVREAAAAAAAAA/QJqZmZmZWTtAMzMzMzPzP0AAAAAAAEA4QHoUrkfhejxA9ihcj8JVQEBmZmZmZmY9QAAAAAAAAEZAUrgehevxQUA0MzMzM7M0QLgehetRmEFAehSuR+F6OUB7FK5H4XpBQBWuR+F61DlACtejcD0KQUDsUbgehetAQAAAAAAAADpAHoXrUbgeO0CuR+F6FK49QOJ6FK5H4T5AR+F6FK4nQEApXI/C9WhFQD0K16NwPT5ACdejcD1KOUAzMzMzM7M3QHA9CtejkEJArkfhehRuQUA+CtejcL09QKRwPQrXozpAPgrXo3BdQEB7FK5H4RpBQI/C9Shcj0BAmpmZmZlZOUAK16NwPapBQK5H4XoULkJASOF6FK4HQEAAAAAAAEA5QGZmZmZm5j1AAAAAAADAQEDiehSuR+E6QA==",
          "dtype": "f8"
         }
        },
        {
         "name": "All",
         "opacity": 0.5,
         "type": "histogram",
         "x": {
          "bdata": "4XoUrkchMkD2KFyPwvUtQJqZmZmZmS5AH4XrUbgeLUBI4XoUrkcyQD4K16NwvTVAj8L1KFwPMEDNzMzMzEwxQBSuR+F6FCpAr0fhehSuLkBJ4XoUrkc0QKRwPQrXozBAFK5H4XoULUCE61G4HgUqQHA9CtejcDdAr0fhehSuOUAVrkfhepQ1QIXrUbgeRTJA7FG4HoUrNkAUrkfhetQzQDMzMzMzszJAuR6F61F4M0DC9Shcj8IwQK5H4XoUrjFAMzMzMzOzMECkcD0K16MuQKRwPQrXozFAAAAAAACAMkD2KFyPwvUxQLkehetRuC5AZmZmZmZmLkD2KFyPwvUyQLgehetReDVA4noUrkdhN0CvR+F6FK4uQD0K16NwPTBAw/UoXI+CM0CvR+F6FK4uQOxRuB6F6ypApHA9CtejMUCkcD0K1+MxQHsUrkfheiVAr0fhehSuLED2KFyPwnUyQKRwPQrXIzRAo3A9CtejLUAzMzMzM7MzQP///////y1AKVyPwvXoM0BI4XoUrscwQHwUrkfh+jxAfBSuR+E6O0A+CtejcL08QJmZmZmZ2TFAmZmZmZkZOUCPwvUoXM81QI/C9ShcTzxAHoXrUbgeLkAehetRuB45QAAAAAAAgDNAAAAAAAAAK0ABAAAAAAA4QDQzMzMzMzFAhOtRuB5FOEDrUbgehes0QK5H4XoU7jpAzMzMzMyMN0DC9Shcj8IzQKRwPQrXYzRACtejcD1KMkCG61G4HoU7QEfhehSuRzZAmpmZmZkZN0C4HoXrUbg2QGZmZmZmJjhA9Shcj8L1OUDC9Shcj8I5QJqZmZmZmTxAZmZmZmYmOEBSuB6F61EyQOF6FK5HYTFAZmZmZmbmMEDXo3A9Clc0QF2PwvUoXDhANDMzMzPzNkCZmZmZmZk7QFK4HoXr0TtA9ihcj8I1NEDgehSuRyE2QDMzMzMz8zJAFa5H4XqUM0A8CtejcL04QOF6FK5H4TNAmpmZmZmZLUAUrkfhepQ0QKRwPQrXIzZAPgrXo3D9NUBSuB6F65E3QM3MzMzMDDBACtejcD1KNUCF61G4HuVBQJqZmZmZWTlAuB6F61HYQECamZmZmVk8QOF6FK5HIUBAFK5H4XpUQkBmZmZmZuYzQOF6FK5HQUBAcD0K16MwO0D2KFyPwpVEQAAAAAAAAD9AmpmZmZlZO0AzMzMzM/M/QAAAAAAAQDhAehSuR+F6PED2KFyPwlVAQGZmZmZmZj1AAAAAAAAARkBSuB6F6/FBQDQzMzMzszRAuB6F61GYQUB6FK5H4Xo5QHsUrkfhekFAFa5H4XrUOUAK16NwPQpBQOxRuB6F60BAAAAAAAAAOkAehetRuB47QK5H4XoUrj1A4noUrkfhPkBH4XoUridAQClcj8L1aEVAPQrXo3A9PkAJ16NwPUo5QDMzMzMzszdAcD0K16OQQkCuR+F6FG5BQD4K16NwvT1ApHA9CtejOkA+CtejcF1AQHsUrkfhGkFAj8L1KFyPQECamZmZmVk5QArXo3A9qkFArkfhehQuQkBI4XoUrgdAQAAAAAAAQDlAZmZmZmbmPUAAAAAAAMBAQOJ6FK5H4TpA",
          "dtype": "f8"
         }
        }
       ],
       "layout": {
        "barmode": "overlay",
        "legend": {
         "title": {
          "text": "Вид"
         }
        },
        "template": {
         "data": {
          "bar": [
           {
            "error_x": {
             "color": "#2a3f5f"
            },
            "error_y": {
             "color": "#2a3f5f"
            },
            "marker": {
             "line": {
              "color": "#E5ECF6",
              "width": 0.5
             },
             "pattern": {
              "fillmode": "overlay",
              "size": 10,
              "solidity": 0.2
             }
            },
            "type": "bar"
           }
          ],
          "barpolar": [
           {
            "marker": {
             "line": {
              "color": "#E5ECF6",
              "width": 0.5
             },
             "pattern": {
              "fillmode": "overlay",
              "size": 10,
              "solidity": 0.2
             }
            },
            "type": "barpolar"
           }
          ],
          "carpet": [
           {
            "aaxis": {
             "endlinecolor": "#2a3f5f",
             "gridcolor": "white",
             "linecolor": "white",
             "minorgridcolor": "white",
             "startlinecolor": "#2a3f5f"
            },
            "baxis": {
             "endlinecolor": "#2a3f5f",
             "gridcolor": "white",
             "linecolor": "white",
             "minorgridcolor": "white",
             "startlinecolor": "#2a3f5f"
            },
            "type": "carpet"
           }
          ],
          "choropleth": [
           {
            "colorbar": {
             "outlinewidth": 0,
             "ticks": ""
            },
            "type": "choropleth"
           }
          ],
          "contour": [
           {
            "colorbar": {
             "outlinewidth": 0,
             "ticks": ""
            },
            "colorscale": [
             [
              0,
              "#0d0887"
             ],
             [
              0.1111111111111111,
              "#46039f"
             ],
             [
              0.2222222222222222,
              "#7201a8"
             ],
             [
              0.3333333333333333,
              "#9c179e"
             ],
             [
              0.4444444444444444,
              "#bd3786"
             ],
             [
              0.5555555555555556,
              "#d8576b"
             ],
             [
              0.6666666666666666,
              "#ed7953"
             ],
             [
              0.7777777777777778,
              "#fb9f3a"
             ],
             [
              0.8888888888888888,
              "#fdca26"
             ],
             [
              1,
              "#f0f921"
             ]
            ],
            "type": "contour"
           }
          ],
          "contourcarpet": [
           {
            "colorbar": {
             "outlinewidth": 0,
             "ticks": ""
            },
            "type": "contourcarpet"
           }
          ],
          "heatmap": [
           {
            "colorbar": {
             "outlinewidth": 0,
             "ticks": ""
            },
            "colorscale": [
             [
              0,
              "#0d0887"
             ],
             [
              0.1111111111111111,
              "#46039f"
             ],
             [
              0.2222222222222222,
              "#7201a8"
             ],
             [
              0.3333333333333333,
              "#9c179e"
             ],
             [
              0.4444444444444444,
              "#bd3786"
             ],
             [
              0.5555555555555556,
              "#d8576b"
             ],
             [
              0.6666666666666666,
              "#ed7953"
             ],
             [
              0.7777777777777778,
              "#fb9f3a"
             ],
             [
              0.8888888888888888,
              "#fdca26"
             ],
             [
              1,
              "#f0f921"
             ]
            ],
            "type": "heatmap"
           }
          ],
          "histogram": [
           {
            "marker": {
             "pattern": {
              "fillmode": "overlay",
              "size": 10,
              "solidity": 0.2
             }
            },
            "type": "histogram"
           }
          ],
          "histogram2d": [
           {
            "colorbar": {
             "outlinewidth": 0,
             "ticks": ""
            },
            "colorscale": [
             [
              0,
              "#0d0887"
             ],
             [
              0.1111111111111111,
              "#46039f"
             ],
             [
              0.2222222222222222,
              "#7201a8"
             ],
             [
              0.3333333333333333,
              "#9c179e"
             ],
             [
              0.4444444444444444,
              "#bd3786"
             ],
             [
              0.5555555555555556,
              "#d8576b"
             ],
             [
              0.6666666666666666,
              "#ed7953"
             ],
             [
              0.7777777777777778,
              "#fb9f3a"
             ],
             [
              0.8888888888888888,
              "#fdca26"
             ],
             [
              1,
              "#f0f921"
             ]
            ],
            "type": "histogram2d"
           }
          ],
          "histogram2dcontour": [
           {
            "colorbar": {
             "outlinewidth": 0,
             "ticks": ""
            },
            "colorscale": [
             [
              0,
              "#0d0887"
             ],
             [
              0.1111111111111111,
              "#46039f"
             ],
             [
              0.2222222222222222,
              "#7201a8"
             ],
             [
              0.3333333333333333,
              "#9c179e"
             ],
             [
              0.4444444444444444,
              "#bd3786"
             ],
             [
              0.5555555555555556,
              "#d8576b"
             ],
             [
              0.6666666666666666,
              "#ed7953"
             ],
             [
              0.7777777777777778,
              "#fb9f3a"
             ],
             [
              0.8888888888888888,
              "#fdca26"
             ],
             [
              1,
              "#f0f921"
             ]
            ],
            "type": "histogram2dcontour"
           }
          ],
          "mesh3d": [
           {
            "colorbar": {
             "outlinewidth": 0,
             "ticks": ""
            },
            "type": "mesh3d"
           }
          ],
          "parcoords": [
           {
            "line": {
             "colorbar": {
              "outlinewidth": 0,
              "ticks": ""
             }
            },
            "type": "parcoords"
           }
          ],
          "pie": [
           {
            "automargin": true,
            "type": "pie"
           }
          ],
          "scatter": [
           {
            "fillpattern": {
             "fillmode": "overlay",
             "size": 10,
             "solidity": 0.2
            },
            "type": "scatter"
           }
          ],
          "scatter3d": [
           {
            "line": {
             "colorbar": {
              "outlinewidth": 0,
              "ticks": ""
             }
            },
            "marker": {
             "colorbar": {
              "outlinewidth": 0,
              "ticks": ""
             }
            },
            "type": "scatter3d"
           }
          ],
          "scattercarpet": [
           {
            "marker": {
             "colorbar": {
              "outlinewidth": 0,
              "ticks": ""
             }
            },
            "type": "scattercarpet"
           }
          ],
          "scattergeo": [
           {
            "marker": {
             "colorbar": {
              "outlinewidth": 0,
              "ticks": ""
             }
            },
            "type": "scattergeo"
           }
          ],
          "scattergl": [
           {
            "marker": {
             "colorbar": {
              "outlinewidth": 0,
              "ticks": ""
             }
            },
            "type": "scattergl"
           }
          ],
          "scattermap": [
           {
            "marker": {
             "colorbar": {
              "outlinewidth": 0,
              "ticks": ""
             }
            },
            "type": "scattermap"
           }
          ],
          "scattermapbox": [
           {
            "marker": {
             "colorbar": {
              "outlinewidth": 0,
              "ticks": ""
             }
            },
            "type": "scattermapbox"
           }
          ],
          "scatterpolar": [
           {
            "marker": {
             "colorbar": {
              "outlinewidth": 0,
              "ticks": ""
             }
            },
            "type": "scatterpolar"
           }
          ],
          "scatterpolargl": [
           {
            "marker": {
             "colorbar": {
              "outlinewidth": 0,
              "ticks": ""
             }
            },
            "type": "scatterpolargl"
           }
          ],
          "scatterternary": [
           {
            "marker": {
             "colorbar": {
              "outlinewidth": 0,
              "ticks": ""
             }
            },
            "type": "scatterternary"
           }
          ],
          "surface": [
           {
            "colorbar": {
             "outlinewidth": 0,
             "ticks": ""
            },
            "colorscale": [
             [
              0,
              "#0d0887"
             ],
             [
              0.1111111111111111,
              "#46039f"
             ],
             [
              0.2222222222222222,
              "#7201a8"
             ],
             [
              0.3333333333333333,
              "#9c179e"
             ],
             [
              0.4444444444444444,
              "#bd3786"
             ],
             [
              0.5555555555555556,
              "#d8576b"
             ],
             [
              0.6666666666666666,
              "#ed7953"
             ],
             [
              0.7777777777777778,
              "#fb9f3a"
             ],
             [
              0.8888888888888888,
              "#fdca26"
             ],
             [
              1,
              "#f0f921"
             ]
            ],
            "type": "surface"
           }
          ],
          "table": [
           {
            "cells": {
             "fill": {
              "color": "#EBF0F8"
             },
             "line": {
              "color": "white"
             }
            },
            "header": {
             "fill": {
              "color": "#C8D4E3"
             },
             "line": {
              "color": "white"
             }
            },
            "type": "table"
           }
          ]
         },
         "layout": {
          "annotationdefaults": {
           "arrowcolor": "#2a3f5f",
           "arrowhead": 0,
           "arrowwidth": 1
          },
          "autotypenumbers": "strict",
          "coloraxis": {
           "colorbar": {
            "outlinewidth": 0,
            "ticks": ""
           }
          },
          "colorscale": {
           "diverging": [
            [
             0,
             "#8e0152"
            ],
            [
             0.1,
             "#c51b7d"
            ],
            [
             0.2,
             "#de77ae"
            ],
            [
             0.3,
             "#f1b6da"
            ],
            [
             0.4,
             "#fde0ef"
            ],
            [
             0.5,
             "#f7f7f7"
            ],
            [
             0.6,
             "#e6f5d0"
            ],
            [
             0.7,
             "#b8e186"
            ],
            [
             0.8,
             "#7fbc41"
            ],
            [
             0.9,
             "#4d9221"
            ],
            [
             1,
             "#276419"
            ]
           ],
           "sequential": [
            [
             0,
             "#0d0887"
            ],
            [
             0.1111111111111111,
             "#46039f"
            ],
            [
             0.2222222222222222,
             "#7201a8"
            ],
            [
             0.3333333333333333,
             "#9c179e"
            ],
            [
             0.4444444444444444,
             "#bd3786"
            ],
            [
             0.5555555555555556,
             "#d8576b"
            ],
            [
             0.6666666666666666,
             "#ed7953"
            ],
            [
             0.7777777777777778,
             "#fb9f3a"
            ],
            [
             0.8888888888888888,
             "#fdca26"
            ],
            [
             1,
             "#f0f921"
            ]
           ],
           "sequentialminus": [
            [
             0,
             "#0d0887"
            ],
            [
             0.1111111111111111,
             "#46039f"
            ],
            [
             0.2222222222222222,
             "#7201a8"
            ],
            [
             0.3333333333333333,
             "#9c179e"
            ],
            [
             0.4444444444444444,
             "#bd3786"
            ],
            [
             0.5555555555555556,
             "#d8576b"
            ],
            [
             0.6666666666666666,
             "#ed7953"
            ],
            [
             0.7777777777777778,
             "#fb9f3a"
            ],
            [
             0.8888888888888888,
             "#fdca26"
            ],
            [
             1,
             "#f0f921"
            ]
           ]
          },
          "colorway": [
           "#636efa",
           "#EF553B",
           "#00cc96",
           "#ab63fa",
           "#FFA15A",
           "#19d3f3",
           "#FF6692",
           "#B6E880",
           "#FF97FF",
           "#FECB52"
          ],
          "font": {
           "color": "#2a3f5f"
          },
          "geo": {
           "bgcolor": "white",
           "lakecolor": "white",
           "landcolor": "#E5ECF6",
           "showlakes": true,
           "showland": true,
           "subunitcolor": "white"
          },
          "hoverlabel": {
           "align": "left"
          },
          "hovermode": "closest",
          "mapbox": {
           "style": "light"
          },
          "paper_bgcolor": "white",
          "plot_bgcolor": "#E5ECF6",
          "polar": {
           "angularaxis": {
            "gridcolor": "white",
            "linecolor": "white",
            "ticks": ""
           },
           "bgcolor": "#E5ECF6",
           "radialaxis": {
            "gridcolor": "white",
            "linecolor": "white",
            "ticks": ""
           }
          },
          "scene": {
           "xaxis": {
            "backgroundcolor": "#E5ECF6",
            "gridcolor": "white",
            "gridwidth": 2,
            "linecolor": "white",
            "showbackground": true,
            "ticks": "",
            "zerolinecolor": "white"
           },
           "yaxis": {
            "backgroundcolor": "#E5ECF6",
            "gridcolor": "white",
            "gridwidth": 2,
            "linecolor": "white",
            "showbackground": true,
            "ticks": "",
            "zerolinecolor": "white"
           },
           "zaxis": {
            "backgroundcolor": "#E5ECF6",
            "gridcolor": "white",
            "gridwidth": 2,
            "linecolor": "white",
            "showbackground": true,
            "ticks": "",
            "zerolinecolor": "white"
           }
          },
          "shapedefaults": {
           "line": {
            "color": "#2a3f5f"
           }
          },
          "ternary": {
           "aaxis": {
            "gridcolor": "white",
            "linecolor": "white",
            "ticks": ""
           },
           "baxis": {
            "gridcolor": "white",
            "linecolor": "white",
            "ticks": ""
           },
           "bgcolor": "#E5ECF6",
           "caxis": {
            "gridcolor": "white",
            "linecolor": "white",
            "ticks": ""
           }
          },
          "title": {
           "x": 0.05
          },
          "xaxis": {
           "automargin": true,
           "gridcolor": "white",
           "linecolor": "white",
           "ticks": "",
           "title": {
            "standoff": 15
           },
           "zerolinecolor": "white",
           "zerolinewidth": 2
          },
          "yaxis": {
           "automargin": true,
           "gridcolor": "white",
           "linecolor": "white",
           "ticks": "",
           "title": {
            "standoff": 15
           },
           "zerolinecolor": "white",
           "zerolinewidth": 2
          }
         }
        },
        "xaxis": {
         "title": {
          "text": "Суммарная площадь чашелистика и лепестка"
         }
        },
        "yaxis": {
         "title": {
          "text": "Количество"
         }
        }
       }
      }
     },
     "metadata": {},
     "output_type": "display_data"
    }
   ],
   "source": [
    "hist_fig: go.Figure = go.Figure()\n",
    "\n",
    "def make_hist(fig: go.Figure, data_flowers_ecdf: pd.Series, name_legend: str) -> None:\n",
    "    \"\"\"\n",
    "    Добавляет гистограмму на график.\n",
    "    \n",
    "    Args:\n",
    "        fig: Объект графика Plotly\n",
    "        data_flowers_ecdf: Series с данными  \n",
    "        name_legend: Название для легенды\n",
    "    \"\"\"\n",
    "    fig.add_trace(\n",
    "        go.Histogram(\n",
    "            x=data_flowers_ecdf,\n",
    "            name=name_legend,\n",
    "            opacity=0.5\n",
    "        )\n",
    "    )\n",
    "\n",
    "make_hist(hist_fig, area_iris_setosa_sepal_petal_sum, \"Setosa\")\n",
    "make_hist(hist_fig, area_iris_versicolor_sepal_petal_sum, \"Versicolor\")\n",
    "make_hist(hist_fig, area_iris_virginica_sepal_petal_sum, \"Virginica\")\n",
    "make_hist(hist_fig, area_all_flowers_sepal_petal_sum, \"All\")\n",
    "\n",
    "hist_fig.update_layout(\n",
    "    barmode='overlay',\n",
    "    xaxis_title=\"Суммарная площадь чашелистика и лепестка\",\n",
    "    yaxis_title=\"Количество\",\n",
    "    legend_title_text=\"Вид\"\n",
    ")\n",
    "\n",
    "hist_fig.show()\n"
   ]
  },
  {
   "cell_type": "code",
   "execution_count": null,
   "id": "ed87f4e7",
   "metadata": {},
   "outputs": [
    {
     "data": {
      "application/vnd.plotly.v1+json": {
       "config": {
        "plotlyServerURL": "https://plot.ly"
       },
       "data": [
        {
         "boxpoints": "all",
         "jitter": 0.5,
         "name": "Setosa",
         "pointpos": -1.8,
         "type": "box",
         "y": {
          "bdata": "4XoUrkchMkD2KFyPwvUtQJqZmZmZmS5AH4XrUbgeLUBI4XoUrkcyQD4K16NwvTVAj8L1KFwPMEDNzMzMzEwxQBSuR+F6FCpAr0fhehSuLkBJ4XoUrkc0QKRwPQrXozBAFK5H4XoULUCE61G4HgUqQHA9CtejcDdAr0fhehSuOUAVrkfhepQ1QIXrUbgeRTJA7FG4HoUrNkAUrkfhetQzQDMzMzMzszJAuR6F61F4M0DC9Shcj8IwQK5H4XoUrjFAMzMzMzOzMECkcD0K16MuQKRwPQrXozFAAAAAAACAMkD2KFyPwvUxQLkehetRuC5AZmZmZmZmLkD2KFyPwvUyQLgehetReDVA4noUrkdhN0CvR+F6FK4uQD0K16NwPTBAw/UoXI+CM0CvR+F6FK4uQOxRuB6F6ypApHA9CtejMUCkcD0K1+MxQHsUrkfheiVAr0fhehSuLED2KFyPwnUyQKRwPQrXIzRAo3A9CtejLUAzMzMzM7MzQP///////y1AKVyPwvXoM0BI4XoUrscwQA==",
          "dtype": "f8"
         }
        },
        {
         "boxpoints": "all",
         "jitter": 0.5,
         "name": "Versicolor",
         "pointpos": -1.8,
         "type": "box",
         "y": {
          "bdata": "fBSuR+H6PEB8FK5H4To7QD4K16NwvTxAmZmZmZnZMUCZmZmZmRk5QI/C9ShczzVAj8L1KFxPPEAehetRuB4uQB6F61G4HjlAAAAAAACAM0AAAAAAAAArQAEAAAAAADhANDMzMzMzMUCE61G4HkU4QOtRuB6F6zRArkfhehTuOkDMzMzMzIw3QML1KFyPwjNApHA9CtdjNEAK16NwPUoyQIbrUbgehTtAR+F6FK5HNkCamZmZmRk3QLgehetRuDZAZmZmZmYmOED1KFyPwvU5QML1KFyPwjlAmpmZmZmZPEBmZmZmZiY4QFK4HoXrUTJA4XoUrkdhMUBmZmZmZuYwQNejcD0KVzRAXY/C9ShcOEA0MzMzM/M2QJmZmZmZmTtAUrgehevRO0D2KFyPwjU0QOB6FK5HITZAMzMzMzPzMkAVrkfhepQzQDwK16NwvThA4XoUrkfhM0CamZmZmZktQBSuR+F6lDRApHA9CtcjNkA+CtejcP01QFK4HoXrkTdAzczMzMwMMEAK16NwPUo1QA==",
          "dtype": "f8"
         }
        },
        {
         "boxpoints": "all",
         "jitter": 0.5,
         "name": "Virginica",
         "pointpos": -1.8,
         "type": "box",
         "y": {
          "bdata": "hetRuB7lQUCamZmZmVk5QLgehetR2EBAmpmZmZlZPEDhehSuRyFAQBSuR+F6VEJAZmZmZmbmM0DhehSuR0FAQHA9CtejMDtA9ihcj8KVREAAAAAAAAA/QJqZmZmZWTtAMzMzMzPzP0AAAAAAAEA4QHoUrkfhejxA9ihcj8JVQEBmZmZmZmY9QAAAAAAAAEZAUrgehevxQUA0MzMzM7M0QLgehetRmEFAehSuR+F6OUB7FK5H4XpBQBWuR+F61DlACtejcD0KQUDsUbgehetAQAAAAAAAADpAHoXrUbgeO0CuR+F6FK49QOJ6FK5H4T5AR+F6FK4nQEApXI/C9WhFQD0K16NwPT5ACdejcD1KOUAzMzMzM7M3QHA9CtejkEJArkfhehRuQUA+CtejcL09QKRwPQrXozpAPgrXo3BdQEB7FK5H4RpBQI/C9Shcj0BAmpmZmZlZOUAK16NwPapBQK5H4XoULkJASOF6FK4HQEAAAAAAAEA5QGZmZmZm5j1AAAAAAADAQEDiehSuR+E6QA==",
          "dtype": "f8"
         }
        },
        {
         "boxpoints": "all",
         "jitter": 0.5,
         "name": "All",
         "pointpos": -1.8,
         "type": "box",
         "y": {
          "bdata": "4XoUrkchMkD2KFyPwvUtQJqZmZmZmS5AH4XrUbgeLUBI4XoUrkcyQD4K16NwvTVAj8L1KFwPMEDNzMzMzEwxQBSuR+F6FCpAr0fhehSuLkBJ4XoUrkc0QKRwPQrXozBAFK5H4XoULUCE61G4HgUqQHA9CtejcDdAr0fhehSuOUAVrkfhepQ1QIXrUbgeRTJA7FG4HoUrNkAUrkfhetQzQDMzMzMzszJAuR6F61F4M0DC9Shcj8IwQK5H4XoUrjFAMzMzMzOzMECkcD0K16MuQKRwPQrXozFAAAAAAACAMkD2KFyPwvUxQLkehetRuC5AZmZmZmZmLkD2KFyPwvUyQLgehetReDVA4noUrkdhN0CvR+F6FK4uQD0K16NwPTBAw/UoXI+CM0CvR+F6FK4uQOxRuB6F6ypApHA9CtejMUCkcD0K1+MxQHsUrkfheiVAr0fhehSuLED2KFyPwnUyQKRwPQrXIzRAo3A9CtejLUAzMzMzM7MzQP///////y1AKVyPwvXoM0BI4XoUrscwQHwUrkfh+jxAfBSuR+E6O0A+CtejcL08QJmZmZmZ2TFAmZmZmZkZOUCPwvUoXM81QI/C9ShcTzxAHoXrUbgeLkAehetRuB45QAAAAAAAgDNAAAAAAAAAK0ABAAAAAAA4QDQzMzMzMzFAhOtRuB5FOEDrUbgehes0QK5H4XoU7jpAzMzMzMyMN0DC9Shcj8IzQKRwPQrXYzRACtejcD1KMkCG61G4HoU7QEfhehSuRzZAmpmZmZkZN0C4HoXrUbg2QGZmZmZmJjhA9Shcj8L1OUDC9Shcj8I5QJqZmZmZmTxAZmZmZmYmOEBSuB6F61EyQOF6FK5HYTFAZmZmZmbmMEDXo3A9Clc0QF2PwvUoXDhANDMzMzPzNkCZmZmZmZk7QFK4HoXr0TtA9ihcj8I1NEDgehSuRyE2QDMzMzMz8zJAFa5H4XqUM0A8CtejcL04QOF6FK5H4TNAmpmZmZmZLUAUrkfhepQ0QKRwPQrXIzZAPgrXo3D9NUBSuB6F65E3QM3MzMzMDDBACtejcD1KNUCF61G4HuVBQJqZmZmZWTlAuB6F61HYQECamZmZmVk8QOF6FK5HIUBAFK5H4XpUQkBmZmZmZuYzQOF6FK5HQUBAcD0K16MwO0D2KFyPwpVEQAAAAAAAAD9AmpmZmZlZO0AzMzMzM/M/QAAAAAAAQDhAehSuR+F6PED2KFyPwlVAQGZmZmZmZj1AAAAAAAAARkBSuB6F6/FBQDQzMzMzszRAuB6F61GYQUB6FK5H4Xo5QHsUrkfhekFAFa5H4XrUOUAK16NwPQpBQOxRuB6F60BAAAAAAAAAOkAehetRuB47QK5H4XoUrj1A4noUrkfhPkBH4XoUridAQClcj8L1aEVAPQrXo3A9PkAJ16NwPUo5QDMzMzMzszdAcD0K16OQQkCuR+F6FG5BQD4K16NwvT1ApHA9CtejOkA+CtejcF1AQHsUrkfhGkFAj8L1KFyPQECamZmZmVk5QArXo3A9qkFArkfhehQuQkBI4XoUrgdAQAAAAAAAQDlAZmZmZmbmPUAAAAAAAMBAQOJ6FK5H4TpA",
          "dtype": "f8"
         }
        }
       ],
       "layout": {
        "barmode": "overlay",
        "legend": {
         "title": {
          "text": "Вид"
         }
        },
        "template": {
         "data": {
          "bar": [
           {
            "error_x": {
             "color": "#2a3f5f"
            },
            "error_y": {
             "color": "#2a3f5f"
            },
            "marker": {
             "line": {
              "color": "#E5ECF6",
              "width": 0.5
             },
             "pattern": {
              "fillmode": "overlay",
              "size": 10,
              "solidity": 0.2
             }
            },
            "type": "bar"
           }
          ],
          "barpolar": [
           {
            "marker": {
             "line": {
              "color": "#E5ECF6",
              "width": 0.5
             },
             "pattern": {
              "fillmode": "overlay",
              "size": 10,
              "solidity": 0.2
             }
            },
            "type": "barpolar"
           }
          ],
          "carpet": [
           {
            "aaxis": {
             "endlinecolor": "#2a3f5f",
             "gridcolor": "white",
             "linecolor": "white",
             "minorgridcolor": "white",
             "startlinecolor": "#2a3f5f"
            },
            "baxis": {
             "endlinecolor": "#2a3f5f",
             "gridcolor": "white",
             "linecolor": "white",
             "minorgridcolor": "white",
             "startlinecolor": "#2a3f5f"
            },
            "type": "carpet"
           }
          ],
          "choropleth": [
           {
            "colorbar": {
             "outlinewidth": 0,
             "ticks": ""
            },
            "type": "choropleth"
           }
          ],
          "contour": [
           {
            "colorbar": {
             "outlinewidth": 0,
             "ticks": ""
            },
            "colorscale": [
             [
              0,
              "#0d0887"
             ],
             [
              0.1111111111111111,
              "#46039f"
             ],
             [
              0.2222222222222222,
              "#7201a8"
             ],
             [
              0.3333333333333333,
              "#9c179e"
             ],
             [
              0.4444444444444444,
              "#bd3786"
             ],
             [
              0.5555555555555556,
              "#d8576b"
             ],
             [
              0.6666666666666666,
              "#ed7953"
             ],
             [
              0.7777777777777778,
              "#fb9f3a"
             ],
             [
              0.8888888888888888,
              "#fdca26"
             ],
             [
              1,
              "#f0f921"
             ]
            ],
            "type": "contour"
           }
          ],
          "contourcarpet": [
           {
            "colorbar": {
             "outlinewidth": 0,
             "ticks": ""
            },
            "type": "contourcarpet"
           }
          ],
          "heatmap": [
           {
            "colorbar": {
             "outlinewidth": 0,
             "ticks": ""
            },
            "colorscale": [
             [
              0,
              "#0d0887"
             ],
             [
              0.1111111111111111,
              "#46039f"
             ],
             [
              0.2222222222222222,
              "#7201a8"
             ],
             [
              0.3333333333333333,
              "#9c179e"
             ],
             [
              0.4444444444444444,
              "#bd3786"
             ],
             [
              0.5555555555555556,
              "#d8576b"
             ],
             [
              0.6666666666666666,
              "#ed7953"
             ],
             [
              0.7777777777777778,
              "#fb9f3a"
             ],
             [
              0.8888888888888888,
              "#fdca26"
             ],
             [
              1,
              "#f0f921"
             ]
            ],
            "type": "heatmap"
           }
          ],
          "histogram": [
           {
            "marker": {
             "pattern": {
              "fillmode": "overlay",
              "size": 10,
              "solidity": 0.2
             }
            },
            "type": "histogram"
           }
          ],
          "histogram2d": [
           {
            "colorbar": {
             "outlinewidth": 0,
             "ticks": ""
            },
            "colorscale": [
             [
              0,
              "#0d0887"
             ],
             [
              0.1111111111111111,
              "#46039f"
             ],
             [
              0.2222222222222222,
              "#7201a8"
             ],
             [
              0.3333333333333333,
              "#9c179e"
             ],
             [
              0.4444444444444444,
              "#bd3786"
             ],
             [
              0.5555555555555556,
              "#d8576b"
             ],
             [
              0.6666666666666666,
              "#ed7953"
             ],
             [
              0.7777777777777778,
              "#fb9f3a"
             ],
             [
              0.8888888888888888,
              "#fdca26"
             ],
             [
              1,
              "#f0f921"
             ]
            ],
            "type": "histogram2d"
           }
          ],
          "histogram2dcontour": [
           {
            "colorbar": {
             "outlinewidth": 0,
             "ticks": ""
            },
            "colorscale": [
             [
              0,
              "#0d0887"
             ],
             [
              0.1111111111111111,
              "#46039f"
             ],
             [
              0.2222222222222222,
              "#7201a8"
             ],
             [
              0.3333333333333333,
              "#9c179e"
             ],
             [
              0.4444444444444444,
              "#bd3786"
             ],
             [
              0.5555555555555556,
              "#d8576b"
             ],
             [
              0.6666666666666666,
              "#ed7953"
             ],
             [
              0.7777777777777778,
              "#fb9f3a"
             ],
             [
              0.8888888888888888,
              "#fdca26"
             ],
             [
              1,
              "#f0f921"
             ]
            ],
            "type": "histogram2dcontour"
           }
          ],
          "mesh3d": [
           {
            "colorbar": {
             "outlinewidth": 0,
             "ticks": ""
            },
            "type": "mesh3d"
           }
          ],
          "parcoords": [
           {
            "line": {
             "colorbar": {
              "outlinewidth": 0,
              "ticks": ""
             }
            },
            "type": "parcoords"
           }
          ],
          "pie": [
           {
            "automargin": true,
            "type": "pie"
           }
          ],
          "scatter": [
           {
            "fillpattern": {
             "fillmode": "overlay",
             "size": 10,
             "solidity": 0.2
            },
            "type": "scatter"
           }
          ],
          "scatter3d": [
           {
            "line": {
             "colorbar": {
              "outlinewidth": 0,
              "ticks": ""
             }
            },
            "marker": {
             "colorbar": {
              "outlinewidth": 0,
              "ticks": ""
             }
            },
            "type": "scatter3d"
           }
          ],
          "scattercarpet": [
           {
            "marker": {
             "colorbar": {
              "outlinewidth": 0,
              "ticks": ""
             }
            },
            "type": "scattercarpet"
           }
          ],
          "scattergeo": [
           {
            "marker": {
             "colorbar": {
              "outlinewidth": 0,
              "ticks": ""
             }
            },
            "type": "scattergeo"
           }
          ],
          "scattergl": [
           {
            "marker": {
             "colorbar": {
              "outlinewidth": 0,
              "ticks": ""
             }
            },
            "type": "scattergl"
           }
          ],
          "scattermap": [
           {
            "marker": {
             "colorbar": {
              "outlinewidth": 0,
              "ticks": ""
             }
            },
            "type": "scattermap"
           }
          ],
          "scattermapbox": [
           {
            "marker": {
             "colorbar": {
              "outlinewidth": 0,
              "ticks": ""
             }
            },
            "type": "scattermapbox"
           }
          ],
          "scatterpolar": [
           {
            "marker": {
             "colorbar": {
              "outlinewidth": 0,
              "ticks": ""
             }
            },
            "type": "scatterpolar"
           }
          ],
          "scatterpolargl": [
           {
            "marker": {
             "colorbar": {
              "outlinewidth": 0,
              "ticks": ""
             }
            },
            "type": "scatterpolargl"
           }
          ],
          "scatterternary": [
           {
            "marker": {
             "colorbar": {
              "outlinewidth": 0,
              "ticks": ""
             }
            },
            "type": "scatterternary"
           }
          ],
          "surface": [
           {
            "colorbar": {
             "outlinewidth": 0,
             "ticks": ""
            },
            "colorscale": [
             [
              0,
              "#0d0887"
             ],
             [
              0.1111111111111111,
              "#46039f"
             ],
             [
              0.2222222222222222,
              "#7201a8"
             ],
             [
              0.3333333333333333,
              "#9c179e"
             ],
             [
              0.4444444444444444,
              "#bd3786"
             ],
             [
              0.5555555555555556,
              "#d8576b"
             ],
             [
              0.6666666666666666,
              "#ed7953"
             ],
             [
              0.7777777777777778,
              "#fb9f3a"
             ],
             [
              0.8888888888888888,
              "#fdca26"
             ],
             [
              1,
              "#f0f921"
             ]
            ],
            "type": "surface"
           }
          ],
          "table": [
           {
            "cells": {
             "fill": {
              "color": "#EBF0F8"
             },
             "line": {
              "color": "white"
             }
            },
            "header": {
             "fill": {
              "color": "#C8D4E3"
             },
             "line": {
              "color": "white"
             }
            },
            "type": "table"
           }
          ]
         },
         "layout": {
          "annotationdefaults": {
           "arrowcolor": "#2a3f5f",
           "arrowhead": 0,
           "arrowwidth": 1
          },
          "autotypenumbers": "strict",
          "coloraxis": {
           "colorbar": {
            "outlinewidth": 0,
            "ticks": ""
           }
          },
          "colorscale": {
           "diverging": [
            [
             0,
             "#8e0152"
            ],
            [
             0.1,
             "#c51b7d"
            ],
            [
             0.2,
             "#de77ae"
            ],
            [
             0.3,
             "#f1b6da"
            ],
            [
             0.4,
             "#fde0ef"
            ],
            [
             0.5,
             "#f7f7f7"
            ],
            [
             0.6,
             "#e6f5d0"
            ],
            [
             0.7,
             "#b8e186"
            ],
            [
             0.8,
             "#7fbc41"
            ],
            [
             0.9,
             "#4d9221"
            ],
            [
             1,
             "#276419"
            ]
           ],
           "sequential": [
            [
             0,
             "#0d0887"
            ],
            [
             0.1111111111111111,
             "#46039f"
            ],
            [
             0.2222222222222222,
             "#7201a8"
            ],
            [
             0.3333333333333333,
             "#9c179e"
            ],
            [
             0.4444444444444444,
             "#bd3786"
            ],
            [
             0.5555555555555556,
             "#d8576b"
            ],
            [
             0.6666666666666666,
             "#ed7953"
            ],
            [
             0.7777777777777778,
             "#fb9f3a"
            ],
            [
             0.8888888888888888,
             "#fdca26"
            ],
            [
             1,
             "#f0f921"
            ]
           ],
           "sequentialminus": [
            [
             0,
             "#0d0887"
            ],
            [
             0.1111111111111111,
             "#46039f"
            ],
            [
             0.2222222222222222,
             "#7201a8"
            ],
            [
             0.3333333333333333,
             "#9c179e"
            ],
            [
             0.4444444444444444,
             "#bd3786"
            ],
            [
             0.5555555555555556,
             "#d8576b"
            ],
            [
             0.6666666666666666,
             "#ed7953"
            ],
            [
             0.7777777777777778,
             "#fb9f3a"
            ],
            [
             0.8888888888888888,
             "#fdca26"
            ],
            [
             1,
             "#f0f921"
            ]
           ]
          },
          "colorway": [
           "#636efa",
           "#EF553B",
           "#00cc96",
           "#ab63fa",
           "#FFA15A",
           "#19d3f3",
           "#FF6692",
           "#B6E880",
           "#FF97FF",
           "#FECB52"
          ],
          "font": {
           "color": "#2a3f5f"
          },
          "geo": {
           "bgcolor": "white",
           "lakecolor": "white",
           "landcolor": "#E5ECF6",
           "showlakes": true,
           "showland": true,
           "subunitcolor": "white"
          },
          "hoverlabel": {
           "align": "left"
          },
          "hovermode": "closest",
          "mapbox": {
           "style": "light"
          },
          "paper_bgcolor": "white",
          "plot_bgcolor": "#E5ECF6",
          "polar": {
           "angularaxis": {
            "gridcolor": "white",
            "linecolor": "white",
            "ticks": ""
           },
           "bgcolor": "#E5ECF6",
           "radialaxis": {
            "gridcolor": "white",
            "linecolor": "white",
            "ticks": ""
           }
          },
          "scene": {
           "xaxis": {
            "backgroundcolor": "#E5ECF6",
            "gridcolor": "white",
            "gridwidth": 2,
            "linecolor": "white",
            "showbackground": true,
            "ticks": "",
            "zerolinecolor": "white"
           },
           "yaxis": {
            "backgroundcolor": "#E5ECF6",
            "gridcolor": "white",
            "gridwidth": 2,
            "linecolor": "white",
            "showbackground": true,
            "ticks": "",
            "zerolinecolor": "white"
           },
           "zaxis": {
            "backgroundcolor": "#E5ECF6",
            "gridcolor": "white",
            "gridwidth": 2,
            "linecolor": "white",
            "showbackground": true,
            "ticks": "",
            "zerolinecolor": "white"
           }
          },
          "shapedefaults": {
           "line": {
            "color": "#2a3f5f"
           }
          },
          "ternary": {
           "aaxis": {
            "gridcolor": "white",
            "linecolor": "white",
            "ticks": ""
           },
           "baxis": {
            "gridcolor": "white",
            "linecolor": "white",
            "ticks": ""
           },
           "bgcolor": "#E5ECF6",
           "caxis": {
            "gridcolor": "white",
            "linecolor": "white",
            "ticks": ""
           }
          },
          "title": {
           "x": 0.05
          },
          "xaxis": {
           "automargin": true,
           "gridcolor": "white",
           "linecolor": "white",
           "ticks": "",
           "title": {
            "standoff": 15
           },
           "zerolinecolor": "white",
           "zerolinewidth": 2
          },
          "yaxis": {
           "automargin": true,
           "gridcolor": "white",
           "linecolor": "white",
           "ticks": "",
           "title": {
            "standoff": 15
           },
           "zerolinecolor": "white",
           "zerolinewidth": 2
          }
         }
        },
        "xaxis": {
         "title": {
          "text": "Суммарная площадь чашелистика и лепестка"
         }
        },
        "yaxis": {
         "title": {
          "text": "Количество"
         }
        }
       }
      }
     },
     "metadata": {},
     "output_type": "display_data"
    }
   ],
   "source": [
    "hist_fig = go.Figure()\n",
    "\n",
    "def do_hist(fig: go.Figure, data_flowers_ecdf: pd.Series, name_legend: str) -> None:\n",
    "  fig.add_trace(\n",
    "    go.Box(\n",
    "      y=data_flowers_ecdf,\n",
    "      name=name_legend,\n",
    "      boxpoints='all',\n",
    "      pointpos=-1.8,\n",
    "      jitter=0.5\n",
    "      )\n",
    "    )\n",
    "\n",
    "do_hist(hist_fig, area_iris_setosa_sepal_petal_sum, \"Setosa\")\n",
    "do_hist(hist_fig, area_iris_versicolor_sepal_petal_sum, \"Versicolor\")\n",
    "do_hist(hist_fig, area_iris_virginica_sepal_petal_sum, \"Virginica\")\n",
    "do_hist(hist_fig, area_all_flowers_sepal_petal_sum, \"All\")\n",
    "\n",
    "hist_fig.update_layout(\n",
    "  barmode='overlay',\n",
    "  xaxis_title=\"Суммарная площадь чашелистика и лепестка\",\n",
    "  yaxis_title=\"Количество\",\n",
    "  legend_title_text=\"Вид\"\n",
    ")\n",
    "\n",
    "hist_fig.show()\n"
   ]
  },
  {
   "cell_type": "markdown",
   "id": "d68a9b8c",
   "metadata": {},
   "source": [
    "## Предположение о распределении:"
   ]
  },
  {
   "cell_type": "markdown",
   "id": "dc454ed4",
   "metadata": {},
   "source": [
    "Как мы можем видеть это мультимодальное распределение, состоящее из нормальных распределений. Сделаем предположение, что каждый класс распределен нормально. "
   ]
  },
  {
   "cell_type": "markdown",
   "id": "2eeb8ddb",
   "metadata": {},
   "source": [
    "### Оценка параметра оценкой максимального правдоподобия:"
   ]
  },
  {
   "cell_type": "code",
   "execution_count": null,
   "id": "945d76d4",
   "metadata": {},
   "outputs": [
    {
     "name": "stdout",
     "output_type": "stream",
     "text": [
      "MLE оценки параметров нормального распределения:\n",
      "       Species    n  mu_hat_MLE  sigma2_hat_MLE  sigma_hat_MLE\n",
      "0       Setosa   50     17.5716          8.8756         2.9792\n",
      "1   Versicolor   50     22.2466         15.5174         3.9392\n",
      "2    Virginica   50     30.9808         26.4648         5.1444\n",
      "3  All flowers  150     23.5997         47.8358         6.9163\n"
     ]
    }
   ],
   "source": [
    "def mle_normal_params(data: pd.Series) -> Tuple[float, float]:\n",
    "    \"\"\"\n",
    "    Вычисляет MLE оценки параметров нормального распределения.\n",
    "    Args:\n",
    "        data: Series с выборочными данными\n",
    "        \n",
    "    Returns:\n",
    "        Tuple: (mu_hat, sigma2_hat) - оценки среднего и дисперсии\n",
    "    \"\"\"\n",
    "    n: int = len(data)\n",
    "    mu_hat: float = data.mean()\n",
    "    sigma2_hat: float = ((data - mu_hat) ** 2).sum() / n\n",
    "    return mu_hat, sigma2_hat\n",
    "\n",
    "species_datasets: Dict[str, pd.Series] = {\n",
    "    'Setosa': area_iris_setosa_sepal_petal_sum,\n",
    "    'Versicolor': area_iris_versicolor_sepal_petal_sum,\n",
    "    'Virginica': area_iris_virginica_sepal_petal_sum,\n",
    "    'All flowers': area_all_flowers_sepal_petal_sum\n",
    "}\n",
    "\n",
    "mle_results: List[Dict[str, Any]] = []\n",
    "for species, data in species_datasets.items():\n",
    "    mu_hat: float\n",
    "    sigma2_hat: float\n",
    "    mu_hat, sigma2_hat = mle_normal_params(data)\n",
    "    n: int = len(data)\n",
    "    mle_results.append({\n",
    "        'Species': species,\n",
    "        'n': n,\n",
    "        'μ̂_MLE': mu_hat,\n",
    "        'σ̂²_MLE': sigma2_hat,\n",
    "        'σ̂_MLE': np.sqrt(sigma2_hat)\n",
    "    })\n",
    "\n",
    "mle_df: pd.DataFrame = pd.DataFrame(mle_results)\n",
    "print(\"MLE оценки параметров нормального распределения:\")\n",
    "print(mle_df.round(4))"
   ]
  },
  {
   "cell_type": "markdown",
   "id": "1c8af010",
   "metadata": {},
   "source": [
    "### Теоретические характеристики MLE оценок"
   ]
  },
  {
   "cell_type": "code",
   "execution_count": null,
   "id": "1934f240",
   "metadata": {},
   "outputs": [
    {
     "name": "stdout",
     "output_type": "stream",
     "text": [
      "\n",
      "Теоретические характеристики MLE оценок:\n"
     ]
    },
    {
     "name": "stdout",
     "output_type": "stream",
     "text": [
      "\n",
      "Теоретические характеристики MLE оценок:\n"
     ]
    },
    {
     "data": {
      "text/html": [
       "<div>\n",
       "<style scoped>\n",
       "    .dataframe tbody tr th:only-of-type {\n",
       "        vertical-align: middle;\n",
       "    }\n",
       "\n",
       "    .dataframe tbody tr th {\n",
       "        vertical-align: top;\n",
       "    }\n",
       "\n",
       "    .dataframe thead th {\n",
       "        text-align: right;\n",
       "    }\n",
       "</style>\n",
       "<table border=\"1\" class=\"dataframe\">\n",
       "  <thead>\n",
       "    <tr style=\"text-align: right;\">\n",
       "      <th></th>\n",
       "      <th>Species</th>\n",
       "      <th>Bias_μ̂</th>\n",
       "      <th>Bias_σ̂²</th>\n",
       "      <th>Var_μ̂</th>\n",
       "      <th>Var_σ̂²</th>\n",
       "      <th>MSE_μ̂</th>\n",
       "      <th>MSE_σ̂²</th>\n",
       "    </tr>\n",
       "  </thead>\n",
       "  <tbody>\n",
       "    <tr>\n",
       "      <th>0</th>\n",
       "      <td>Setosa</td>\n",
       "      <td>0</td>\n",
       "      <td>-0.177512</td>\n",
       "      <td>0.177512</td>\n",
       "      <td>3.151061</td>\n",
       "      <td>0.177512</td>\n",
       "      <td>3.182571</td>\n",
       "    </tr>\n",
       "    <tr>\n",
       "      <th>1</th>\n",
       "      <td>Versicolor</td>\n",
       "      <td>0</td>\n",
       "      <td>-0.310349</td>\n",
       "      <td>0.310349</td>\n",
       "      <td>9.631621</td>\n",
       "      <td>0.310349</td>\n",
       "      <td>9.727937</td>\n",
       "    </tr>\n",
       "    <tr>\n",
       "      <th>2</th>\n",
       "      <td>Virginica</td>\n",
       "      <td>0</td>\n",
       "      <td>-0.529296</td>\n",
       "      <td>0.529296</td>\n",
       "      <td>28.015467</td>\n",
       "      <td>0.529296</td>\n",
       "      <td>28.295621</td>\n",
       "    </tr>\n",
       "    <tr>\n",
       "      <th>3</th>\n",
       "      <td>All flowers</td>\n",
       "      <td>0</td>\n",
       "      <td>-0.318905</td>\n",
       "      <td>0.318905</td>\n",
       "      <td>30.510169</td>\n",
       "      <td>0.318905</td>\n",
       "      <td>30.611869</td>\n",
       "    </tr>\n",
       "  </tbody>\n",
       "</table>\n",
       "</div>"
      ],
      "text/plain": [
       "       Species  Bias_μ̂  Bias_σ̂²    Var_μ̂    Var_σ̂²    MSE_μ̂    MSE_σ̂²\n",
       "0       Setosa        0 -0.177512  0.177512   3.151061  0.177512   3.182571\n",
       "1   Versicolor        0 -0.310349  0.310349   9.631621  0.310349   9.727937\n",
       "2    Virginica        0 -0.529296  0.529296  28.015467  0.529296  28.295621\n",
       "3  All flowers        0 -0.318905  0.318905  30.510169  0.318905  30.611869"
      ]
     },
     "metadata": {},
     "output_type": "display_data"
    }
   ],
   "source": [
    "\n",
    "def calculate_theoretical_properties(mu_hat: float, sigma2_hat: float, n: int) -> Dict[str, float]:\n",
    "    \"\"\"\n",
    "    Вычисляет теоретические характеристики MLE оценок.\n",
    "    \n",
    "    Args:\n",
    "        mu_hat: Оценка среднего\n",
    "        sigma2_hat: Оценка дисперсии  \n",
    "        n: Размер выборки\n",
    "        \n",
    "    Returns:\n",
    "        Словарь с теоретическими характеристиками\n",
    "    \"\"\"\n",
    "    bias_mu: float = 0  # μ̂ - несмещенная оценка\n",
    "    bias_sigma2: float = -sigma2_hat / n  # σ̂² - смещенная оценка\n",
    "    \n",
    "    var_mu: float = sigma2_hat / n\n",
    "    var_sigma2: float = 2 * (sigma2_hat ** 2) / n\n",
    "    \n",
    "    mse_mu: float = var_mu + bias_mu ** 2\n",
    "    mse_sigma2: float = var_sigma2 + bias_sigma2 ** 2\n",
    "    \n",
    "    return {\n",
    "        'Bias_μ̂': bias_mu,\n",
    "        'Bias_σ̂²': bias_sigma2,\n",
    "        'Var_μ̂': var_mu,\n",
    "        'Var_σ̂²': var_sigma2,\n",
    "        'MSE_μ̂': mse_mu,\n",
    "        'MSE_σ̂²': mse_sigma2\n",
    "    }\n",
    "\n",
    "theoretical_results: List[Dict[str, Any]] = []\n",
    "for _, row in mle_df.iterrows():\n",
    "    props: Dict[str, float] = calculate_theoretical_properties(row['μ̂_MLE'], row['σ̂²_MLE'], row['n'])\n",
    "    props['Species'] = row['Species']\n",
    "    theoretical_results.append(props)\n",
    "\n",
    "theoretical_df: pd.DataFrame = pd.DataFrame(theoretical_results)\n",
    "theoretical_df = theoretical_df[['Species'] + [col for col in theoretical_df.columns if col != 'Species']]\n",
    "\n",
    "print(\"\\nТеоретические характеристики MLE оценок:\")\n",
    "display(theoretical_df.round(6))"
   ]
  },
  {
   "cell_type": "markdown",
   "id": "27b1eab2",
   "metadata": {},
   "source": [
    "### Информация Фишера"
   ]
  },
  {
   "cell_type": "code",
   "execution_count": null,
   "id": "590c6994",
   "metadata": {},
   "outputs": [
    {
     "name": "stdout",
     "output_type": "stream",
     "text": [
      "Информация Фишера и границы Крамера-Рао:\n"
     ]
    },
    {
     "name": "stdout",
     "output_type": "stream",
     "text": [
      "Информация Фишера и границы Крамера-Рао:\n"
     ]
    },
    {
     "data": {
      "text/html": [
       "<div>\n",
       "<style scoped>\n",
       "    .dataframe tbody tr th:only-of-type {\n",
       "        vertical-align: middle;\n",
       "    }\n",
       "\n",
       "    .dataframe tbody tr th {\n",
       "        vertical-align: top;\n",
       "    }\n",
       "\n",
       "    .dataframe thead th {\n",
       "        text-align: right;\n",
       "    }\n",
       "</style>\n",
       "<table border=\"1\" class=\"dataframe\">\n",
       "  <thead>\n",
       "    <tr style=\"text-align: right;\">\n",
       "      <th></th>\n",
       "      <th>Species</th>\n",
       "      <th>I₁₁_μ</th>\n",
       "      <th>I₂₂_σ²</th>\n",
       "      <th>I₁₂</th>\n",
       "      <th>CramerRao_μ̂</th>\n",
       "      <th>CramerRao_σ̂²</th>\n",
       "    </tr>\n",
       "  </thead>\n",
       "  <tbody>\n",
       "    <tr>\n",
       "      <th>0</th>\n",
       "      <td>Setosa</td>\n",
       "      <td>5.633413</td>\n",
       "      <td>0.317353</td>\n",
       "      <td>0</td>\n",
       "      <td>0.177512</td>\n",
       "      <td>3.151061</td>\n",
       "    </tr>\n",
       "    <tr>\n",
       "      <th>1</th>\n",
       "      <td>Versicolor</td>\n",
       "      <td>3.222184</td>\n",
       "      <td>0.103825</td>\n",
       "      <td>0</td>\n",
       "      <td>0.310349</td>\n",
       "      <td>9.631621</td>\n",
       "    </tr>\n",
       "    <tr>\n",
       "      <th>2</th>\n",
       "      <td>Virginica</td>\n",
       "      <td>1.889301</td>\n",
       "      <td>0.035695</td>\n",
       "      <td>0</td>\n",
       "      <td>0.529296</td>\n",
       "      <td>28.015467</td>\n",
       "    </tr>\n",
       "    <tr>\n",
       "      <th>3</th>\n",
       "      <td>All flowers</td>\n",
       "      <td>3.135728</td>\n",
       "      <td>0.032776</td>\n",
       "      <td>0</td>\n",
       "      <td>0.318905</td>\n",
       "      <td>30.510169</td>\n",
       "    </tr>\n",
       "  </tbody>\n",
       "</table>\n",
       "</div>"
      ],
      "text/plain": [
       "       Species     I₁₁_μ    I₂₂_σ²  I₁₂  CramerRao_μ̂  CramerRao_σ̂²\n",
       "0       Setosa  5.633413  0.317353    0      0.177512       3.151061\n",
       "1   Versicolor  3.222184  0.103825    0      0.310349       9.631621\n",
       "2    Virginica  1.889301  0.035695    0      0.529296      28.015467\n",
       "3  All flowers  3.135728  0.032776    0      0.318905      30.510169"
      ]
     },
     "metadata": {},
     "output_type": "display_data"
    },
    {
     "name": "stdout",
     "output_type": "stream",
     "text": [
      "\n",
      "Сравнение эффективности MLE оценок:\n",
      "(Эффективность = 1 означает достижение границы Крамера-Рао)\n"
     ]
    },
    {
     "data": {
      "text/html": [
       "<div>\n",
       "<style scoped>\n",
       "    .dataframe tbody tr th:only-of-type {\n",
       "        vertical-align: middle;\n",
       "    }\n",
       "\n",
       "    .dataframe tbody tr th {\n",
       "        vertical-align: top;\n",
       "    }\n",
       "\n",
       "    .dataframe thead th {\n",
       "        text-align: right;\n",
       "    }\n",
       "</style>\n",
       "<table border=\"1\" class=\"dataframe\">\n",
       "  <thead>\n",
       "    <tr style=\"text-align: right;\">\n",
       "      <th></th>\n",
       "      <th>Species</th>\n",
       "      <th>Теоретич_Var_μ̂</th>\n",
       "      <th>КрамерРао_μ̂</th>\n",
       "      <th>Эффективность_μ̂</th>\n",
       "      <th>Теоретич_Var_σ̂²</th>\n",
       "      <th>КрамерРао_σ̂²</th>\n",
       "      <th>Эффективность_σ̂²</th>\n",
       "    </tr>\n",
       "  </thead>\n",
       "  <tbody>\n",
       "    <tr>\n",
       "      <th>0</th>\n",
       "      <td>Setosa</td>\n",
       "      <td>0.177512</td>\n",
       "      <td>0.177512</td>\n",
       "      <td>1.0</td>\n",
       "      <td>3.151061</td>\n",
       "      <td>3.151061</td>\n",
       "      <td>1.0</td>\n",
       "    </tr>\n",
       "    <tr>\n",
       "      <th>1</th>\n",
       "      <td>Versicolor</td>\n",
       "      <td>0.310349</td>\n",
       "      <td>0.310349</td>\n",
       "      <td>1.0</td>\n",
       "      <td>9.631621</td>\n",
       "      <td>9.631621</td>\n",
       "      <td>1.0</td>\n",
       "    </tr>\n",
       "    <tr>\n",
       "      <th>2</th>\n",
       "      <td>Virginica</td>\n",
       "      <td>0.529296</td>\n",
       "      <td>0.529296</td>\n",
       "      <td>1.0</td>\n",
       "      <td>28.015467</td>\n",
       "      <td>28.015467</td>\n",
       "      <td>1.0</td>\n",
       "    </tr>\n",
       "    <tr>\n",
       "      <th>3</th>\n",
       "      <td>All flowers</td>\n",
       "      <td>0.318905</td>\n",
       "      <td>0.318905</td>\n",
       "      <td>1.0</td>\n",
       "      <td>30.510169</td>\n",
       "      <td>30.510169</td>\n",
       "      <td>1.0</td>\n",
       "    </tr>\n",
       "  </tbody>\n",
       "</table>\n",
       "</div>"
      ],
      "text/plain": [
       "       Species  Теоретич_Var_μ̂  КрамерРао_μ̂  Эффективность_μ̂  \\\n",
       "0       Setosa         0.177512      0.177512               1.0   \n",
       "1   Versicolor         0.310349      0.310349               1.0   \n",
       "2    Virginica         0.529296      0.529296               1.0   \n",
       "3  All flowers         0.318905      0.318905               1.0   \n",
       "\n",
       "   Теоретич_Var_σ̂²  КрамерРао_σ̂²  Эффективность_σ̂²  \n",
       "0          3.151061       3.151061                1.0  \n",
       "1          9.631621       9.631621                1.0  \n",
       "2         28.015467      28.015467                1.0  \n",
       "3         30.510169      30.510169                1.0  "
      ]
     },
     "metadata": {},
     "output_type": "display_data"
    }
   ],
   "source": [
    "def calculate_fisher_info(mu_hat: float, sigma2_hat: float, n: int) -> Dict[str, float]:\n",
    "    \"\"\"\n",
    "    Вычисляет информацию Фишера и границы Крамера-Рао.\n",
    "    \n",
    "    Args:\n",
    "        mu_hat: Оценка среднего\n",
    "        sigma2_hat: Оценка дисперсии\n",
    "        n: Размер выборки\n",
    "        \n",
    "    Returns:\n",
    "        Словарь с элементами информационной матрицы и границами Крамера-Рао\n",
    "    \"\"\"\n",
    "    I_mu_mu: float = n / sigma2_hat  \n",
    "    I_sigma2_sigma2: float = n / (2 * sigma2_hat ** 2)  \n",
    "    I_mu_sigma2: float = 0\n",
    "    \n",
    "    cramer_rao_mu: float = 1 / I_mu_mu\n",
    "    cramer_rao_sigma2: float = 1 / I_sigma2_sigma2\n",
    "    \n",
    "    return {\n",
    "        'I₁₁_μ': I_mu_mu,\n",
    "        'I₂₂_σ²': I_sigma2_sigma2,\n",
    "        'I₁₂': I_mu_sigma2,\n",
    "        'CramerRao_μ̂': cramer_rao_mu,\n",
    "        'CramerRao_σ̂²': cramer_rao_sigma2\n",
    "    }\n",
    "\n",
    "# Создаем DataFrame с информацией Фишера\n",
    "fisher_results: List[Dict[str, Any]] = []\n",
    "for _, row in mle_df.iterrows():\n",
    "    fisher_info: Dict[str, float] = calculate_fisher_info(row['μ̂_MLE'], row['σ̂²_MLE'], row['n'])\n",
    "    fisher_info['Species'] = row['Species']\n",
    "    fisher_results.append(fisher_info)\n",
    "\n",
    "fisher_df: pd.DataFrame = pd.DataFrame(fisher_results)\n",
    "fisher_df = fisher_df[['Species'] + [col for col in fisher_df.columns if col != 'Species']]\n",
    "\n",
    "print(\"Информация Фишера и границы Крамера-Рао:\")\n",
    "display(fisher_df.round(6))\n",
    "\n",
    "# Сравнение теоретических дисперсий с границами Крамера-Рао\n",
    "comparison_results: List[Dict[str, Any]] = []\n",
    "for i, row in theoretical_df.iterrows():\n",
    "    fisher_row = fisher_df.iloc[i]\n",
    "    comparison_results.append({\n",
    "        'Species': row['Species'],\n",
    "        'Теоретич_Var_μ̂': row['Var_μ̂'],\n",
    "        'КрамерРао_μ̂': fisher_row['CramerRao_μ̂'],\n",
    "        'Эффективность_μ̂': fisher_row['CramerRao_μ̂'] / row['Var_μ̂'],\n",
    "        'Теоретич_Var_σ̂²': row['Var_σ̂²'],\n",
    "        'КрамерРао_σ̂²': fisher_row['CramerRao_σ̂²'],\n",
    "        'Эффективность_σ̂²': fisher_row['CramerRao_σ̂²'] / row['Var_σ̂²']\n",
    "    })\n",
    "\n",
    "comparison_df: pd.DataFrame = pd.DataFrame(comparison_results)\n",
    "print(\"\\nСравнение эффективности MLE оценок:\")\n",
    "print(\"(Эффективность = 1 означает достижение границы Крамера-Рао)\")\n",
    "display(comparison_df.round(6))"
   ]
  },
  {
   "cell_type": "markdown",
   "id": "65b2535e",
   "metadata": {},
   "source": [
    "### Сводная таблица всех результатов"
   ]
  },
  {
   "cell_type": "code",
   "execution_count": 123,
   "id": "5a61c415",
   "metadata": {},
   "outputs": [
    {
     "name": "stdout",
     "output_type": "stream",
     "text": [
      "ПОЛНАЯ СВОДНАЯ ТАБЛИЦА РЕЗУЛЬТАТОВ MLE АНАЛИЗА\n",
      "============================================================\n"
     ]
    },
    {
     "data": {
      "text/html": [
       "<div>\n",
       "<style scoped>\n",
       "    .dataframe tbody tr th:only-of-type {\n",
       "        vertical-align: middle;\n",
       "    }\n",
       "\n",
       "    .dataframe tbody tr th {\n",
       "        vertical-align: top;\n",
       "    }\n",
       "\n",
       "    .dataframe thead th {\n",
       "        text-align: right;\n",
       "    }\n",
       "</style>\n",
       "<table border=\"1\" class=\"dataframe\">\n",
       "  <thead>\n",
       "    <tr style=\"text-align: right;\">\n",
       "      <th></th>\n",
       "      <th>Species</th>\n",
       "      <th>n</th>\n",
       "      <th>μ̂_MLE</th>\n",
       "      <th>σ̂²_MLE</th>\n",
       "      <th>σ̂_MLE</th>\n",
       "      <th>Bias_μ̂</th>\n",
       "      <th>Bias_σ̂²</th>\n",
       "      <th>Var_μ̂</th>\n",
       "      <th>Var_σ̂²</th>\n",
       "      <th>MSE_μ̂</th>\n",
       "      <th>MSE_σ̂²</th>\n",
       "      <th>Fisher_I₁₁</th>\n",
       "      <th>Fisher_I₂₂</th>\n",
       "      <th>CramerRao_μ̂</th>\n",
       "      <th>CramerRao_σ̂²</th>\n",
       "    </tr>\n",
       "  </thead>\n",
       "  <tbody>\n",
       "    <tr>\n",
       "      <th>0</th>\n",
       "      <td>Setosa</td>\n",
       "      <td>50</td>\n",
       "      <td>17.571600</td>\n",
       "      <td>8.875613</td>\n",
       "      <td>2.979197</td>\n",
       "      <td>0</td>\n",
       "      <td>-0.177512</td>\n",
       "      <td>0.177512</td>\n",
       "      <td>3.151061</td>\n",
       "      <td>0.177512</td>\n",
       "      <td>3.182571</td>\n",
       "      <td>5.633413</td>\n",
       "      <td>0.317353</td>\n",
       "      <td>0.177512</td>\n",
       "      <td>3.151061</td>\n",
       "    </tr>\n",
       "    <tr>\n",
       "      <th>1</th>\n",
       "      <td>Versicolor</td>\n",
       "      <td>50</td>\n",
       "      <td>22.246600</td>\n",
       "      <td>15.517426</td>\n",
       "      <td>3.939216</td>\n",
       "      <td>0</td>\n",
       "      <td>-0.310349</td>\n",
       "      <td>0.310349</td>\n",
       "      <td>9.631621</td>\n",
       "      <td>0.310349</td>\n",
       "      <td>9.727937</td>\n",
       "      <td>3.222184</td>\n",
       "      <td>0.103825</td>\n",
       "      <td>0.310349</td>\n",
       "      <td>9.631621</td>\n",
       "    </tr>\n",
       "    <tr>\n",
       "      <th>2</th>\n",
       "      <td>Virginica</td>\n",
       "      <td>50</td>\n",
       "      <td>30.980800</td>\n",
       "      <td>26.464819</td>\n",
       "      <td>5.144397</td>\n",
       "      <td>0</td>\n",
       "      <td>-0.529296</td>\n",
       "      <td>0.529296</td>\n",
       "      <td>28.015467</td>\n",
       "      <td>0.529296</td>\n",
       "      <td>28.295621</td>\n",
       "      <td>1.889301</td>\n",
       "      <td>0.035695</td>\n",
       "      <td>0.529296</td>\n",
       "      <td>28.015467</td>\n",
       "    </tr>\n",
       "    <tr>\n",
       "      <th>3</th>\n",
       "      <td>All flowers</td>\n",
       "      <td>150</td>\n",
       "      <td>23.599667</td>\n",
       "      <td>47.835789</td>\n",
       "      <td>6.916342</td>\n",
       "      <td>0</td>\n",
       "      <td>-0.318905</td>\n",
       "      <td>0.318905</td>\n",
       "      <td>30.510169</td>\n",
       "      <td>0.318905</td>\n",
       "      <td>30.611869</td>\n",
       "      <td>3.135728</td>\n",
       "      <td>0.032776</td>\n",
       "      <td>0.318905</td>\n",
       "      <td>30.510169</td>\n",
       "    </tr>\n",
       "  </tbody>\n",
       "</table>\n",
       "</div>"
      ],
      "text/plain": [
       "       Species    n     μ̂_MLE    σ̂²_MLE    σ̂_MLE  Bias_μ̂  Bias_σ̂²  \\\n",
       "0       Setosa   50  17.571600   8.875613  2.979197        0 -0.177512   \n",
       "1   Versicolor   50  22.246600  15.517426  3.939216        0 -0.310349   \n",
       "2    Virginica   50  30.980800  26.464819  5.144397        0 -0.529296   \n",
       "3  All flowers  150  23.599667  47.835789  6.916342        0 -0.318905   \n",
       "\n",
       "     Var_μ̂    Var_σ̂²    MSE_μ̂    MSE_σ̂²  Fisher_I₁₁  Fisher_I₂₂  \\\n",
       "0  0.177512   3.151061  0.177512   3.182571    5.633413    0.317353   \n",
       "1  0.310349   9.631621  0.310349   9.727937    3.222184    0.103825   \n",
       "2  0.529296  28.015467  0.529296  28.295621    1.889301    0.035695   \n",
       "3  0.318905  30.510169  0.318905  30.611869    3.135728    0.032776   \n",
       "\n",
       "   CramerRao_μ̂  CramerRao_σ̂²  \n",
       "0      0.177512       3.151061  \n",
       "1      0.310349       9.631621  \n",
       "2      0.529296      28.015467  \n",
       "3      0.318905      30.510169  "
      ]
     },
     "metadata": {},
     "output_type": "display_data"
    },
    {
     "name": "stdout",
     "output_type": "stream",
     "text": [
      "\n",
      "КЛЮЧЕВЫЕ РЕЗУЛЬТАТЫ:\n"
     ]
    },
    {
     "data": {
      "text/html": [
       "<div>\n",
       "<style scoped>\n",
       "    .dataframe tbody tr th:only-of-type {\n",
       "        vertical-align: middle;\n",
       "    }\n",
       "\n",
       "    .dataframe tbody tr th {\n",
       "        vertical-align: top;\n",
       "    }\n",
       "\n",
       "    .dataframe thead th {\n",
       "        text-align: right;\n",
       "    }\n",
       "</style>\n",
       "<table border=\"1\" class=\"dataframe\">\n",
       "  <thead>\n",
       "    <tr style=\"text-align: right;\">\n",
       "      <th></th>\n",
       "      <th>Species</th>\n",
       "      <th>n</th>\n",
       "      <th>μ̂_MLE</th>\n",
       "      <th>σ̂²_MLE</th>\n",
       "      <th>MSE_μ̂</th>\n",
       "      <th>MSE_σ̂²</th>\n",
       "    </tr>\n",
       "  </thead>\n",
       "  <tbody>\n",
       "    <tr>\n",
       "      <th>0</th>\n",
       "      <td>Setosa</td>\n",
       "      <td>50</td>\n",
       "      <td>17.5716</td>\n",
       "      <td>8.8756</td>\n",
       "      <td>0.1775</td>\n",
       "      <td>3.1826</td>\n",
       "    </tr>\n",
       "    <tr>\n",
       "      <th>1</th>\n",
       "      <td>Versicolor</td>\n",
       "      <td>50</td>\n",
       "      <td>22.2466</td>\n",
       "      <td>15.5174</td>\n",
       "      <td>0.3103</td>\n",
       "      <td>9.7279</td>\n",
       "    </tr>\n",
       "    <tr>\n",
       "      <th>2</th>\n",
       "      <td>Virginica</td>\n",
       "      <td>50</td>\n",
       "      <td>30.9808</td>\n",
       "      <td>26.4648</td>\n",
       "      <td>0.5293</td>\n",
       "      <td>28.2956</td>\n",
       "    </tr>\n",
       "    <tr>\n",
       "      <th>3</th>\n",
       "      <td>All flowers</td>\n",
       "      <td>150</td>\n",
       "      <td>23.5997</td>\n",
       "      <td>47.8358</td>\n",
       "      <td>0.3189</td>\n",
       "      <td>30.6119</td>\n",
       "    </tr>\n",
       "  </tbody>\n",
       "</table>\n",
       "</div>"
      ],
      "text/plain": [
       "       Species    n   μ̂_MLE  σ̂²_MLE  MSE_μ̂  MSE_σ̂²\n",
       "0       Setosa   50  17.5716   8.8756  0.1775   3.1826\n",
       "1   Versicolor   50  22.2466  15.5174  0.3103   9.7279\n",
       "2    Virginica   50  30.9808  26.4648  0.5293  28.2956\n",
       "3  All flowers  150  23.5997  47.8358  0.3189  30.6119"
      ]
     },
     "metadata": {},
     "output_type": "display_data"
    }
   ],
   "source": [
    "# Создаем объединенную сводную таблицу всех результатов\n",
    "summary_results = []\n",
    "\n",
    "for i, species in enumerate(['Setosa', 'Versicolor', 'Virginica', 'All flowers']):\n",
    "    mle_row = mle_df.iloc[i]\n",
    "    theo_row = theoretical_df.iloc[i] \n",
    "    fisher_row = fisher_df.iloc[i]\n",
    "    \n",
    "    summary_results.append({\n",
    "        'Species': species,\n",
    "        'n': mle_row['n'],\n",
    "        # MLE оценки\n",
    "        'μ̂_MLE': mle_row['μ̂_MLE'],\n",
    "        'σ̂²_MLE': mle_row['σ̂²_MLE'],\n",
    "        'σ̂_MLE': mle_row['σ̂_MLE'],\n",
    "        # Смещения\n",
    "        'Bias_μ̂': theo_row['Bias_μ̂'],\n",
    "        'Bias_σ̂²': theo_row['Bias_σ̂²'],\n",
    "        # Дисперсии\n",
    "        'Var_μ̂': theo_row['Var_μ̂'],\n",
    "        'Var_σ̂²': theo_row['Var_σ̂²'],\n",
    "        # MSE\n",
    "        'MSE_μ̂': theo_row['MSE_μ̂'],\n",
    "        'MSE_σ̂²': theo_row['MSE_σ̂²'],\n",
    "        # Информация Фишера\n",
    "        'Fisher_I₁₁': fisher_row['I₁₁_μ'],\n",
    "        'Fisher_I₂₂': fisher_row['I₂₂_σ²'],\n",
    "        # Границы Крамера-Рао\n",
    "        'CramerRao_μ̂': fisher_row['CramerRao_μ̂'],\n",
    "        'CramerRao_σ̂²': fisher_row['CramerRao_σ̂²']\n",
    "    })\n",
    "\n",
    "summary_df = pd.DataFrame(summary_results)\n",
    "\n",
    "print(\"ПОЛНАЯ СВОДНАЯ ТАБЛИЦА РЕЗУЛЬТАТОВ MLE АНАЛИЗА\")\n",
    "print(\"=\" * 60)\n",
    "display(summary_df.round(6))\n",
    "\n",
    "key_results = summary_df[['Species', 'n', 'μ̂_MLE', 'σ̂²_MLE', 'MSE_μ̂', 'MSE_σ̂²']].copy()\n",
    "print(\"\\nКЛЮЧЕВЫЕ РЕЗУЛЬТАТЫ:\")\n",
    "display(key_results.round(4))"
   ]
  },
  {
   "cell_type": "markdown",
   "id": "88fed64e",
   "metadata": {},
   "source": [
    "### Проверка с использованием scipy.stats"
   ]
  },
  {
   "cell_type": "code",
   "execution_count": 138,
   "id": "0c247dc5",
   "metadata": {},
   "outputs": [
    {
     "name": "stdout",
     "output_type": "stream",
     "text": [
      "\n"
     ]
    },
    {
     "data": {
      "text/html": [
       "<div>\n",
       "<style scoped>\n",
       "    .dataframe tbody tr th:only-of-type {\n",
       "        vertical-align: middle;\n",
       "    }\n",
       "\n",
       "    .dataframe tbody tr th {\n",
       "        vertical-align: top;\n",
       "    }\n",
       "\n",
       "    .dataframe thead th {\n",
       "        text-align: right;\n",
       "    }\n",
       "</style>\n",
       "<table border=\"1\" class=\"dataframe\">\n",
       "  <thead>\n",
       "    <tr style=\"text-align: right;\">\n",
       "      <th></th>\n",
       "      <th>Species</th>\n",
       "      <th>Our_μ̂</th>\n",
       "      <th>Scipy_μ̂</th>\n",
       "      <th>Diff_μ</th>\n",
       "      <th>Our_σ̂²</th>\n",
       "      <th>Scipy_σ̂²</th>\n",
       "      <th>Diff_σ²</th>\n",
       "      <th>KS_statistic</th>\n",
       "      <th>KS_p_value</th>\n",
       "      <th>Normal_test</th>\n",
       "    </tr>\n",
       "  </thead>\n",
       "  <tbody>\n",
       "    <tr>\n",
       "      <th>0</th>\n",
       "      <td>Setosa</td>\n",
       "      <td>17.571600</td>\n",
       "      <td>17.571600</td>\n",
       "      <td>0.0</td>\n",
       "      <td>8.875613</td>\n",
       "      <td>8.875613</td>\n",
       "      <td>0.0</td>\n",
       "      <td>0.111062</td>\n",
       "      <td>0.531690</td>\n",
       "      <td>Нормально</td>\n",
       "    </tr>\n",
       "    <tr>\n",
       "      <th>1</th>\n",
       "      <td>Versicolor</td>\n",
       "      <td>22.246600</td>\n",
       "      <td>22.246600</td>\n",
       "      <td>0.0</td>\n",
       "      <td>15.517426</td>\n",
       "      <td>15.517426</td>\n",
       "      <td>0.0</td>\n",
       "      <td>0.062764</td>\n",
       "      <td>0.982221</td>\n",
       "      <td>Нормально</td>\n",
       "    </tr>\n",
       "    <tr>\n",
       "      <th>2</th>\n",
       "      <td>Virginica</td>\n",
       "      <td>30.980800</td>\n",
       "      <td>30.980800</td>\n",
       "      <td>0.0</td>\n",
       "      <td>26.464819</td>\n",
       "      <td>26.464819</td>\n",
       "      <td>0.0</td>\n",
       "      <td>0.079837</td>\n",
       "      <td>0.882285</td>\n",
       "      <td>Нормально</td>\n",
       "    </tr>\n",
       "    <tr>\n",
       "      <th>3</th>\n",
       "      <td>All flowers</td>\n",
       "      <td>23.599667</td>\n",
       "      <td>23.599667</td>\n",
       "      <td>0.0</td>\n",
       "      <td>47.835789</td>\n",
       "      <td>47.835789</td>\n",
       "      <td>0.0</td>\n",
       "      <td>0.092035</td>\n",
       "      <td>0.147956</td>\n",
       "      <td>Нормально</td>\n",
       "    </tr>\n",
       "  </tbody>\n",
       "</table>\n",
       "</div>"
      ],
      "text/plain": [
       "       Species     Our_μ̂   Scipy_μ̂  Diff_μ    Our_σ̂²  Scipy_σ̂²  Diff_σ²  \\\n",
       "0       Setosa  17.571600  17.571600     0.0   8.875613   8.875613      0.0   \n",
       "1   Versicolor  22.246600  22.246600     0.0  15.517426  15.517426      0.0   \n",
       "2    Virginica  30.980800  30.980800     0.0  26.464819  26.464819      0.0   \n",
       "3  All flowers  23.599667  23.599667     0.0  47.835789  47.835789      0.0   \n",
       "\n",
       "   KS_statistic  KS_p_value Normal_test  \n",
       "0      0.111062    0.531690   Нормально  \n",
       "1      0.062764    0.982221   Нормально  \n",
       "2      0.079837    0.882285   Нормально  \n",
       "3      0.092035    0.147956   Нормально  "
      ]
     },
     "metadata": {},
     "output_type": "display_data"
    },
    {
     "data": {
      "image/png": "[encoded data removed]",
      "text/plain": [
       "<Figure size 1200x1000 with 4 Axes>"
      ]
     },
     "metadata": {},
     "output_type": "display_data"
    }
   ],
   "source": [
    "# Проверяем наши результаты с помощью scipy.stats\n",
    "from scipy.stats import norm\n",
    "\n",
    "# Создаем DataFrame для сравнения с scipy\n",
    "scipy_comparison = []\n",
    "\n",
    "for species, data in species_datasets.items():\n",
    "    # Наши MLE оценки\n",
    "    our_mu, our_sigma2 = mle_normal_params(data)\n",
    "    our_sigma = np.sqrt(our_sigma2)\n",
    "    \n",
    "    # Оценки scipy (метод моментов, аналогичный MLE для больших выборок)\n",
    "    scipy_mu, scipy_sigma = norm.fit(data)\n",
    "    scipy_sigma2 = scipy_sigma ** 2\n",
    "    \n",
    "    # Статистика Колмогорова-Смирнова для проверки нормальности\n",
    "    ks_statistic, ks_pvalue = sts.kstest(data, lambda x: norm.cdf(x, scipy_mu, scipy_sigma))\n",
    "    \n",
    "    scipy_comparison.append({\n",
    "        'Species': species,\n",
    "        'Our_μ̂': our_mu,\n",
    "        'Scipy_μ̂': scipy_mu,\n",
    "        'Diff_μ': abs(our_mu - scipy_mu),\n",
    "        'Our_σ̂²': our_sigma2,\n",
    "        'Scipy_σ̂²': scipy_sigma2,\n",
    "        'Diff_σ²': abs(our_sigma2 - scipy_sigma2),\n",
    "        'KS_statistic': ks_statistic,\n",
    "        'KS_p_value': ks_pvalue,\n",
    "        'Normal_test': 'Нормально' if ks_pvalue > 0.05 else 'Не нормально'\n",
    "    })\n",
    "\n",
    "scipy_df = pd.DataFrame(scipy_comparison)\n",
    "print(\"\")\n",
    "display(scipy_df.round(6))\n",
    "\n",
    "# Визуализация сравнения\n",
    "import matplotlib.pyplot as plt\n",
    "fig, axes = plt.subplots(2, 2, figsize=(12, 10))\n",
    "axes = axes.flatten()\n",
    "\n",
    "for i, (species, data) in enumerate(species_datasets.items()):\n",
    "    # plt.xlabel(\"\")\n",
    "    # plt.ylabel(\"Количество\")\n",
    "    if i < 4:\n",
    "        mu, sigma = norm.fit(data)\n",
    "        axes[i].hist(data, bins=20, density=True, alpha=0.7, color='lightblue', \n",
    "                    label=f'Данные {species}')\n",
    "        \n",
    "        axes[i].set_xlabel(\"Значения\")      \n",
    "        axes[i].set_ylabel(\"Количество\")\n",
    "          \n",
    "        x = np.linspace(data.min(), data.max(), 100)\n",
    "        axes[i].plot(x, norm.pdf(x, mu, sigma), 'r-', linewidth=2, \n",
    "                    label=f'N({mu:.2f}, {sigma:.2f}²)')\n",
    "        \n",
    "        axes[i].set_title(f'{species}')\n",
    "        # axes[i].xla(\"Значения\")\n",
    "        # axes[i].ylabel(\"Количество\")\n",
    "        axes[i].legend()\n",
    "        axes[i].grid(True, alpha=0.3)\n",
    "plt.suptitle(\"Сравнение с scipy.stats и тест нормальности:\")\n",
    "# plt.xlabel(\"Количество\")\n",
    "plt.tight_layout()\n",
    "plt.show()"
   ]
  },
  {
   "cell_type": "markdown",
   "id": "a7e97ec6",
   "metadata": {},
   "source": [
    "Можем заметить, что подбор нормального распределения подошел для описания гистограмм"
   ]
  },
  {
   "cell_type": "markdown",
   "id": "f8febaa3",
   "metadata": {},
   "source": [
    "## Эксперимент"
   ]
  },
  {
   "cell_type": "code",
   "execution_count": 139,
   "id": "53892679",
   "metadata": {},
   "outputs": [
    {
     "data": {
      "text/html": [
       "<div>\n",
       "<style scoped>\n",
       "    .dataframe tbody tr th:only-of-type {\n",
       "        vertical-align: middle;\n",
       "    }\n",
       "\n",
       "    .dataframe tbody tr th {\n",
       "        vertical-align: top;\n",
       "    }\n",
       "\n",
       "    .dataframe thead th {\n",
       "        text-align: right;\n",
       "    }\n",
       "</style>\n",
       "<table border=\"1\" class=\"dataframe\">\n",
       "  <thead>\n",
       "    <tr style=\"text-align: right;\">\n",
       "      <th></th>\n",
       "      <th>sample_size</th>\n",
       "      <th>mu_hat</th>\n",
       "      <th>sigma_hat</th>\n",
       "    </tr>\n",
       "  </thead>\n",
       "  <tbody>\n",
       "    <tr>\n",
       "      <th>0</th>\n",
       "      <td>20</td>\n",
       "      <td>10.278429</td>\n",
       "      <td>7.875581</td>\n",
       "    </tr>\n",
       "    <tr>\n",
       "      <th>1</th>\n",
       "      <td>20</td>\n",
       "      <td>12.897212</td>\n",
       "      <td>6.098301</td>\n",
       "    </tr>\n",
       "    <tr>\n",
       "      <th>2</th>\n",
       "      <td>20</td>\n",
       "      <td>10.039721</td>\n",
       "      <td>6.193059</td>\n",
       "    </tr>\n",
       "    <tr>\n",
       "      <th>3</th>\n",
       "      <td>20</td>\n",
       "      <td>11.144274</td>\n",
       "      <td>7.886854</td>\n",
       "    </tr>\n",
       "    <tr>\n",
       "      <th>4</th>\n",
       "      <td>20</td>\n",
       "      <td>11.775863</td>\n",
       "      <td>5.936546</td>\n",
       "    </tr>\n",
       "    <tr>\n",
       "      <th>...</th>\n",
       "      <td>...</td>\n",
       "      <td>...</td>\n",
       "      <td>...</td>\n",
       "    </tr>\n",
       "    <tr>\n",
       "      <th>4995</th>\n",
       "      <td>1000</td>\n",
       "      <td>11.703279</td>\n",
       "      <td>7.104017</td>\n",
       "    </tr>\n",
       "    <tr>\n",
       "      <th>4996</th>\n",
       "      <td>1000</td>\n",
       "      <td>11.738937</td>\n",
       "      <td>7.477140</td>\n",
       "    </tr>\n",
       "    <tr>\n",
       "      <th>4997</th>\n",
       "      <td>1000</td>\n",
       "      <td>12.083938</td>\n",
       "      <td>7.367082</td>\n",
       "    </tr>\n",
       "    <tr>\n",
       "      <th>4998</th>\n",
       "      <td>1000</td>\n",
       "      <td>11.786625</td>\n",
       "      <td>7.654907</td>\n",
       "    </tr>\n",
       "    <tr>\n",
       "      <th>4999</th>\n",
       "      <td>1000</td>\n",
       "      <td>11.410177</td>\n",
       "      <td>7.475542</td>\n",
       "    </tr>\n",
       "  </tbody>\n",
       "</table>\n",
       "<p>5000 rows × 3 columns</p>\n",
       "</div>"
      ],
      "text/plain": [
       "      sample_size     mu_hat  sigma_hat\n",
       "0              20  10.278429   7.875581\n",
       "1              20  12.897212   6.098301\n",
       "2              20  10.039721   6.193059\n",
       "3              20  11.144274   7.886854\n",
       "4              20  11.775863   5.936546\n",
       "...           ...        ...        ...\n",
       "4995         1000  11.703279   7.104017\n",
       "4996         1000  11.738937   7.477140\n",
       "4997         1000  12.083938   7.367082\n",
       "4998         1000  11.786625   7.654907\n",
       "4999         1000  11.410177   7.475542\n",
       "\n",
       "[5000 rows x 3 columns]"
      ]
     },
     "execution_count": 139,
     "metadata": {},
     "output_type": "execute_result"
    }
   ],
   "source": [
    "theta = area_all_flowers_sepal_petal.mean()\n",
    "n_select = [20, 50, 100, 500, 1000]\n",
    "M = 1000\n",
    "\n",
    "mu_0 = area_all_flowers_sepal_petal.mean()\n",
    "sigma_0 = area_all_flowers_sepal_petal.std()\n",
    "\n",
    "results = []\n",
    "\n",
    "for n in n_select:\n",
    "    for i in range(M):\n",
    "        sample = np.random.normal(loc=mu_0, scale=sigma_0, size=n)\n",
    "\n",
    "        mu_hat = np.mean(sample)\n",
    "        sigma_hat = np.std(sample) \n",
    "\n",
    "        results.append({'sample_size': n, 'mu_hat': mu_hat, 'sigma_hat': sigma_hat})\n",
    "\n",
    "results_df = pd.DataFrame(results)\n",
    "results_df"
   ]
  },
  {
   "cell_type": "code",
   "execution_count": 121,
   "id": "a04d1115",
   "metadata": {},
   "outputs": [
    {
     "data": {
      "text/html": [
       "<div>\n",
       "<style scoped>\n",
       "    .dataframe tbody tr th:only-of-type {\n",
       "        vertical-align: middle;\n",
       "    }\n",
       "\n",
       "    .dataframe tbody tr th {\n",
       "        vertical-align: top;\n",
       "    }\n",
       "\n",
       "    .dataframe thead th {\n",
       "        text-align: right;\n",
       "    }\n",
       "</style>\n",
       "<table border=\"1\" class=\"dataframe\">\n",
       "  <thead>\n",
       "    <tr style=\"text-align: right;\">\n",
       "      <th></th>\n",
       "      <th>Среднее(μ̂)</th>\n",
       "      <th>Смещение(μ̂)</th>\n",
       "      <th>Дисперсия(μ̂)</th>\n",
       "      <th>Среднее(σ̂)</th>\n",
       "      <th>Смещение(σ̂)</th>\n",
       "      <th>Дисперсия(σ̂)</th>\n",
       "    </tr>\n",
       "  </thead>\n",
       "  <tbody>\n",
       "    <tr>\n",
       "      <th>0</th>\n",
       "      <td>11.842</td>\n",
       "      <td>0.0420</td>\n",
       "      <td>2.7290</td>\n",
       "      <td>6.971</td>\n",
       "      <td>-0.3038</td>\n",
       "      <td>1.2512</td>\n",
       "    </tr>\n",
       "    <tr>\n",
       "      <th>1</th>\n",
       "      <td>11.794</td>\n",
       "      <td>-0.0058</td>\n",
       "      <td>1.0555</td>\n",
       "      <td>7.172</td>\n",
       "      <td>-0.1035</td>\n",
       "      <td>0.5595</td>\n",
       "    </tr>\n",
       "    <tr>\n",
       "      <th>2</th>\n",
       "      <td>11.802</td>\n",
       "      <td>0.0024</td>\n",
       "      <td>0.5385</td>\n",
       "      <td>7.206</td>\n",
       "      <td>-0.0691</td>\n",
       "      <td>0.2626</td>\n",
       "    </tr>\n",
       "    <tr>\n",
       "      <th>3</th>\n",
       "      <td>11.793</td>\n",
       "      <td>-0.0070</td>\n",
       "      <td>0.1122</td>\n",
       "      <td>7.264</td>\n",
       "      <td>-0.0110</td>\n",
       "      <td>0.0544</td>\n",
       "    </tr>\n",
       "    <tr>\n",
       "      <th>4</th>\n",
       "      <td>11.801</td>\n",
       "      <td>0.0009</td>\n",
       "      <td>0.0520</td>\n",
       "      <td>7.267</td>\n",
       "      <td>-0.0082</td>\n",
       "      <td>0.0265</td>\n",
       "    </tr>\n",
       "  </tbody>\n",
       "</table>\n",
       "</div>"
      ],
      "text/plain": [
       "  Среднее(μ̂) Смещение(μ̂) Дисперсия(μ̂) Среднее(σ̂) Смещение(σ̂)  \\\n",
       "0      11.842       0.0420        2.7290       6.971      -0.3038   \n",
       "1      11.794      -0.0058        1.0555       7.172      -0.1035   \n",
       "2      11.802       0.0024        0.5385       7.206      -0.0691   \n",
       "3      11.793      -0.0070        0.1122       7.264      -0.0110   \n",
       "4      11.801       0.0009        0.0520       7.267      -0.0082   \n",
       "\n",
       "  Дисперсия(σ̂)  \n",
       "0        1.2512  \n",
       "1        0.5595  \n",
       "2        0.2626  \n",
       "3        0.0544  \n",
       "4        0.0265  "
      ]
     },
     "execution_count": 121,
     "metadata": {},
     "output_type": "execute_result"
    }
   ],
   "source": [
    "sts_summary = []\n",
    "\n",
    "for n in n_select:\n",
    "    subset = results_df[results_df['sample_size'] == n]\n",
    "    mean_mu_hat = subset['mu_hat'].mean()\n",
    "    var_mu_hat = subset['mu_hat'].var()\n",
    "    \n",
    "    mean_sigma_hat = subset['sigma_hat'].mean()\n",
    "    var_sigma_hat = subset['sigma_hat'].var()\n",
    "\n",
    "\n",
    "    sts_summary.append({\n",
    "        \"Среднее(μ̂)\": f\"{mean_mu_hat:.3f}\",\n",
    "        \"Смещение(μ̂)\": f\"{mean_mu_hat - mu_0:.4f}\",\n",
    "        \"Дисперсия(μ̂)\": f\"{var_mu_hat:.4f}\",\n",
    "        \"Среднее(σ̂)\": f\"{mean_sigma_hat:.3f}\",\n",
    "        \"Смещение(σ̂)\": f\"{mean_sigma_hat - sigma_0:.4f}\",\n",
    "        \"Дисперсия(σ̂)\": f\"{var_sigma_hat:.4f}\"\n",
    "        })\n",
    "sts_summary_df = pd.DataFrame(data=sts_summary)\n",
    "sts_summary_df"
   ]
  },
  {
   "cell_type": "code",
   "execution_count": 118,
   "id": "b467f39e",
   "metadata": {},
   "outputs": [
    {
     "name": "stderr",
     "output_type": "stream",
     "text": [
      "c:\\Users\\KDO\\AppData\\Local\\Programs\\Python\\Python313\\Lib\\site-packages\\IPython\\core\\pylabtools.py:170: UserWarning:\n",
      "\n",
      "Glyph 8320 (\\N{SUBSCRIPT ZERO}) missing from font(s) Arial.\n",
      "\n"
     ]
    },
    {
     "data": {
      "image/png": "[encoded data removed]",
      "text/plain": [
       "<Figure size 1600x600 with 2 Axes>"
      ]
     },
     "metadata": {},
     "output_type": "display_data"
    }
   ],
   "source": [
    "sns.set_style(\"whitegrid\")\n",
    "\n",
    "# Box-plot и Violin-plot для оценки μ̂\n",
    "fig, axes = plt.subplots(1, 2, figsize=(16, 6))\n",
    "fig.suptitle('Поведение оценки μ̂ в зависимости от объема выборки (n)', fontsize=16)\n",
    "\n",
    "sns.boxplot(ax=axes[0], x='sample_size', y='mu_hat', data=results_df)\n",
    "axes[0].axhline(mu_0, color='r', linestyle='--', label=f'Истинное μ₀ = {mu_0:.3f}')\n",
    "axes[0].set_title('Box-plot')\n",
    "axes[0].legend()\n",
    "\n",
    "sns.violinplot(ax=axes[1], x='sample_size', y='mu_hat', data=results_df)\n",
    "axes[1].axhline(mu_0, color='r', linestyle='--', label=f'Истинное μ₀ = {mu_0:.3f}')\n",
    "axes[1].set_title('Violin-plot')\n",
    "axes[1].legend()\n",
    "\n",
    "plt.show()"
   ]
  },
  {
   "cell_type": "code",
   "execution_count": 119,
   "id": "6762b0b0",
   "metadata": {},
   "outputs": [
    {
     "name": "stderr",
     "output_type": "stream",
     "text": [
      "c:\\Users\\KDO\\AppData\\Local\\Programs\\Python\\Python313\\Lib\\site-packages\\IPython\\core\\pylabtools.py:170: UserWarning:\n",
      "\n",
      "Glyph 8320 (\\N{SUBSCRIPT ZERO}) missing from font(s) Arial.\n",
      "\n"
     ]
    },
    {
     "data": {
      "image/png": "[encoded data removed]",
      "text/plain": [
       "<Figure size 1600x600 with 2 Axes>"
      ]
     },
     "metadata": {},
     "output_type": "display_data"
    }
   ],
   "source": [
    "fig, axes = plt.subplots(1, 2, figsize=(16, 6))\n",
    "fig.suptitle('Поведение оценки σ̂ в зависимости от объема выборки (n)', fontsize=16)\n",
    "\n",
    "sns.boxplot(ax=axes[0], x='sample_size', y='sigma_hat', data=results_df)\n",
    "axes[0].axhline(sigma_0, color='r', linestyle='--', label=f'Истинное σ₀ = {sigma_0:.3f}')\n",
    "axes[0].set_title('Box-plot')\n",
    "axes[0].legend()\n",
    "\n",
    "sns.violinplot(ax=axes[1], x='sample_size', y='sigma_hat', data=results_df)\n",
    "axes[1].axhline(sigma_0, color='r', linestyle='--', label=f'Истинное σ₀ = {sigma_0:.3f}')\n",
    "axes[1].set_title('Violin-plot')\n",
    "axes[1].legend()\n",
    "\n",
    "plt.show()\n"
   ]
  },
  {
   "cell_type": "code",
   "execution_count": 153,
   "id": "8a213a07",
   "metadata": {},
   "outputs": [
    {
     "data": {
      "image/png": "[encoded data removed]",
      "text/plain": [
       "<Figure size 1600x600 with 2 Axes>"
      ]
     },
     "metadata": {},
     "output_type": "display_data"
    }
   ],
   "source": [
    "fig, axes = plt.subplots(1, 2, figsize=(16, 6))\n",
    "\n",
    "for n in n_select:\n",
    "    \n",
    "    hist_subset = results_df[results_df['sample_size'] == n]\n",
    "    \n",
    "    # axes[0].label_outer(lan)\n",
    "    sns.histplot(ax=axes[0], data=hist_subset, x='mu_hat', label=f\"Выборка объема {n}\", kde=True)\n",
    "    # axes[0].legend()\n",
    "    sns.histplot(ax=axes[1], data=hist_subset, x='sigma_hat',label=f\"Выборка объема {n}\" , kde=True)\n",
    "\n",
    "axes[0].set_title('Распределение оценок площади лепестков и чашелистиков в совокупности')\n",
    "axes[0].axvline(mu_0, color='r', linestyle='--', label=f'Истинное значение = {mu_0:.3f}')\n",
    "axes[0].set_xlabel(\"Среднея площадь лепестков и чашелистиков в совокупности\")\n",
    "axes[0].set_ylabel(\"Количество\")\n",
    "axes[0].legend()\n",
    "\n",
    "axes[1].set_title('Распределение оценок разброса площади лепестков и чашелистиков в совокупности')\n",
    "axes[1].axvline(sigma_0, color='r', linestyle='--', label=f'Истинное значение = {sigma_0:.3f}')\n",
    "axes[1].set_xlabel(\"Разброс средней площади лепестков и чашелистиков в совокупности\")\n",
    "axes[1].set_ylabel(\"Количество\")\n",
    "axes[1].legend()\n",
    "\n",
    "plt.show()"
   ]
  }
 ],
 "metadata": {
  "kernelspec": {
   "display_name": "Python 3",
   "language": "python",
   "name": "python3"
  },
  "language_info": {
   "codemirror_mode": {
    "name": "ipython",
    "version": 3
   },
   "file_extension": ".py",
   "mimetype": "text/x-python",
   "name": "python",
   "nbconvert_exporter": "python",
   "pygments_lexer": "ipython3",
   "version": "3.13.2"
  }
 },
 "nbformat": 4,
 "nbformat_minor": 5
}
